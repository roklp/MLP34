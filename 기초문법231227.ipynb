{
  "nbformat": 4,
  "nbformat_minor": 0,
  "metadata": {
    "colab": {
      "provenance": [],
      "toc_visible": true,
      "authorship_tag": "ABX9TyMh8rKKpvB4lXd1Is3FzvDU",
      "include_colab_link": true
    },
    "kernelspec": {
      "name": "python3",
      "display_name": "Python 3"
    },
    "language_info": {
      "name": "python"
    }
  },
  "cells": [
    {
      "cell_type": "markdown",
      "metadata": {
        "id": "view-in-github",
        "colab_type": "text"
      },
      "source": [
        "<a href=\"https://colab.research.google.com/github/roklp/MLP34/blob/main/%EA%B8%B0%EC%B4%88%EB%AC%B8%EB%B2%95231227.ipynb\" target=\"_parent\"><img src=\"https://colab.research.google.com/assets/colab-badge.svg\" alt=\"Open In Colab\"/></a>"
      ]
    },
    {
      "cell_type": "code",
      "execution_count": null,
      "metadata": {
        "id": "5Q7XUoZnn8kS"
      },
      "outputs": [],
      "source": []
    },
    {
      "cell_type": "markdown",
      "source": [
        "#Chapter 3. 파이썬을   계산기처럼\n"
      ],
      "metadata": {
        "id": "utwp0jwKojM3"
      }
    },
    {
      "cell_type": "code",
      "source": [
        "1+1 # 정수"
      ],
      "metadata": {
        "colab": {
          "base_uri": "https://localhost:8080/"
        },
        "id": "WWBiuLZirX7r",
        "outputId": "ae9cc1e1-ff08-4ac1-94d3-29c89606afc2"
      },
      "execution_count": 1,
      "outputs": [
        {
          "output_type": "execute_result",
          "data": {
            "text/plain": [
              "2"
            ]
          },
          "metadata": {},
          "execution_count": 1
        }
      ]
    },
    {
      "cell_type": "code",
      "source": [
        "5-2 # 정수 연산 결괏값은 정수로 변환"
      ],
      "metadata": {
        "colab": {
          "base_uri": "https://localhost:8080/"
        },
        "id": "cY0TqYZorZlo",
        "outputId": "2f65e857-6427-401b-a386-bb852e67369a"
      },
      "execution_count": 2,
      "outputs": [
        {
          "output_type": "execute_result",
          "data": {
            "text/plain": [
              "3"
            ]
          },
          "metadata": {},
          "execution_count": 2
        }
      ]
    },
    {
      "cell_type": "code",
      "source": [
        "5 - 2"
      ],
      "metadata": {
        "colab": {
          "base_uri": "https://localhost:8080/"
        },
        "id": "duTjO1Iurb05",
        "outputId": "2fa5ba9f-6060-4e00-961d-a4030eda5097"
      },
      "execution_count": 3,
      "outputs": [
        {
          "output_type": "execute_result",
          "data": {
            "text/plain": [
              "3"
            ]
          },
          "metadata": {},
          "execution_count": 3
        }
      ]
    },
    {
      "cell_type": "code",
      "source": [
        "15 * 2"
      ],
      "metadata": {
        "colab": {
          "base_uri": "https://localhost:8080/"
        },
        "id": "em3vO8azregB",
        "outputId": "efb0f3b3-291c-423d-ae7c-5489d1651044"
      },
      "execution_count": 4,
      "outputs": [
        {
          "output_type": "execute_result",
          "data": {
            "text/plain": [
              "30"
            ]
          },
          "metadata": {},
          "execution_count": 4
        }
      ]
    },
    {
      "cell_type": "code",
      "source": [
        "# 나눗셈\n",
        "10/2    # 정수  /  정수 >반환값은 실수형으로 반환"
      ],
      "metadata": {
        "colab": {
          "base_uri": "https://localhost:8080/"
        },
        "id": "eZHRX7Qmrivv",
        "outputId": "8df97c25-b361-41e1-8b7f-d8db9901abfd"
      },
      "execution_count": 5,
      "outputs": [
        {
          "output_type": "execute_result",
          "data": {
            "text/plain": [
              "5.0"
            ]
          },
          "metadata": {},
          "execution_count": 5
        }
      ]
    },
    {
      "cell_type": "markdown",
      "source": [
        "- 실수연산"
      ],
      "metadata": {
        "id": "VzKVZTbpsfBX"
      }
    },
    {
      "cell_type": "code",
      "source": [
        "print(1.2 + 5.2) # 덧셈\n",
        "print(5.2 - 1.2) # 뺄셈\n",
        "5.2 * 1.2 # 곱셈\n",
        "6  /  2   # 나눗셈"
      ],
      "metadata": {
        "colab": {
          "base_uri": "https://localhost:8080/"
        },
        "id": "BlFHhzhrrxgR",
        "outputId": "aefceea9-f008-4e87-a55f-8f135ca8ca4f"
      },
      "execution_count": 6,
      "outputs": [
        {
          "output_type": "execute_result",
          "data": {
            "text/plain": [
              "3.0"
            ]
          },
          "metadata": {},
          "execution_count": 6
        }
      ]
    },
    {
      "cell_type": "markdown",
      "source": [
        "### 연산규칙\n",
        "- (1)괄호 안 계산\n",
        "- (2)지수 계산\n",
        "- (3)곱셈 나눗셈 계산\n",
        "- (4)덧셈 뺼셈"
      ],
      "metadata": {
        "id": "mCUGrEB0tZCm"
      }
    },
    {
      "cell_type": "code",
      "source": [
        "print(2 + 3 * 4)\n",
        "print(3 / 2 * 4 - 5 / 2)\n",
        "print((5 * 4 - 15) + ((5 - 2) * (9 - 7)))"
      ],
      "metadata": {
        "colab": {
          "base_uri": "https://localhost:8080/"
        },
        "id": "5QWdIxrOt2hO",
        "outputId": "a5ac051d-e3d8-4fec-b029-b154ffc48854"
      },
      "execution_count": 10,
      "outputs": [
        {
          "output_type": "stream",
          "name": "stdout",
          "text": [
            "14\n",
            "3.5\n",
            "11\n"
          ]
        }
      ]
    },
    {
      "cell_type": "markdown",
      "source": [
        "- type()"
      ],
      "metadata": {
        "id": "qFy63svZu0Nc"
      }
    },
    {
      "cell_type": "code",
      "source": [
        "# 파이썬 정수표현\n",
        "# 파이썬 실수표현\n",
        "print(type(3))\n",
        "print(type(3.5))"
      ],
      "metadata": {
        "colab": {
          "base_uri": "https://localhost:8080/"
        },
        "id": "YGWHNZnsuzZ0",
        "outputId": "0ce34eb6-c92a-4f02-9184-ecd507303dd7"
      },
      "execution_count": 12,
      "outputs": [
        {
          "output_type": "stream",
          "name": "stdout",
          "text": [
            "<class 'int'>\n",
            "<class 'float'>\n"
          ]
        }
      ]
    },
    {
      "cell_type": "markdown",
      "source": [
        "## type()\n",
        " - 함수 : 특정 기능을 수행하도록 만든 매직박스\n",
        "   + 특정 함수를 쓰기위한 조건만 맞춰주면 동작"
      ],
      "metadata": {
        "id": "ZBYzwY4VyzJZ"
      }
    },
    {
      "cell_type": "markdown",
      "source": [
        "함수의 종류\n",
        "- 내장(built-in)함수 : 파이썬 설치와 함께 제공하는 기본적인 함수\n",
        " + print(), type()\n",
        "\n",
        "\n",
        " - 라이브러리에서 제공하는 함수\n",
        "  + R:패키지, Python : 라이브러리\n",
        "  + 목적이 분명함\n",
        "    - 웹사이트 개발: 웹사이트와 관련된 라이브러리를 별도 설치 필요함(게임개발 시각화 등등도 똑같음)\n",
        "    "
      ],
      "metadata": {
        "id": "O6BC9IAgzu-9"
      }
    },
    {
      "cell_type": "markdown",
      "source": [
        "- 파이썬 객체지향 언어임"
      ],
      "metadata": {
        "id": "W352rzzG1ylo"
      }
    },
    {
      "cell_type": "markdown",
      "source": [
        "## 거듭 제곱과 나머지\n",
        "- 숫자 A를 n번 곱하는 것 (power)\n",
        " + A는 밑, n는 지수"
      ],
      "metadata": {
        "id": "XutrYOdt2Bkz"
      }
    },
    {
      "cell_type": "code",
      "source": [
        "print(2**5) # 거듭제곱"
      ],
      "metadata": {
        "colab": {
          "base_uri": "https://localhost:8080/"
        },
        "id": "4mUFdpOC2UYK",
        "outputId": "e7b32bf0-8e01-4ab3-cef4-358229463115"
      },
      "execution_count": 14,
      "outputs": [
        {
          "output_type": "stream",
          "name": "stdout",
          "text": [
            "32\n"
          ]
        }
      ]
    },
    {
      "cell_type": "markdown",
      "source": [
        "- 나머지 구하는 방법"
      ],
      "metadata": {
        "id": "G0PECSDA2ob9"
      }
    },
    {
      "cell_type": "code",
      "source": [
        "print(13 % 5) #나머지\n",
        "\n",
        "# 몫을 구하고 싶을떄\n",
        "print(13 // 5)"
      ],
      "metadata": {
        "colab": {
          "base_uri": "https://localhost:8080/"
        },
        "id": "2umQ2-HB2sGA",
        "outputId": "2849ab40-39a2-44de-f706-02154c735613"
      },
      "execution_count": 15,
      "outputs": [
        {
          "output_type": "stream",
          "name": "stdout",
          "text": [
            "3\n",
            "2\n"
          ]
        }
      ]
    },
    {
      "cell_type": "markdown",
      "source": [
        "## 과학적 표기법\n",
        "- 아주 큰 수, 작은 수를 다뤄야하는 케이스\n",
        " + 예로 빛의 속도를 m/s로 표현하면 3x10^8 이런식"
      ],
      "metadata": {
        "id": "PchEPee_3f6P"
      }
    },
    {
      "cell_type": "code",
      "source": [
        "print(3* 10 ** 8)\n",
        "print(3e8)\n",
        "print(3e-4)"
      ],
      "metadata": {
        "colab": {
          "base_uri": "https://localhost:8080/"
        },
        "id": "LGAcwJ--4Lo0",
        "outputId": "7d0b205b-e9b4-4635-c72e-49f3cfaaea8c"
      },
      "execution_count": 17,
      "outputs": [
        {
          "output_type": "stream",
          "name": "stdout",
          "text": [
            "300000000\n",
            "300000000.0\n",
            "0.0003\n"
          ]
        }
      ]
    },
    {
      "cell_type": "markdown",
      "source": [
        "## 진수 표현과 변환\n",
        " - 일상 생활은 10진법\n",
        " - 컴터는 2진법\n",
        " - 메서드\n",
        "  + bin() : 10진수>2진수\n",
        "  + oct() : 10진수>8진수\n",
        "  + hex() : 10진수>16진수"
      ],
      "metadata": {
        "id": "_T86drmh5gZe"
      }
    },
    {
      "cell_type": "code",
      "source": [
        " print(17)  # 10진법\n",
        " print(0b10001)  # 2진법\n",
        " print(0o21)  #8진법\n",
        " print(0x11)  #16진법"
      ],
      "metadata": {
        "colab": {
          "base_uri": "https://localhost:8080/"
        },
        "id": "D6wYKHPw6SQU",
        "outputId": "a0e3184c-cdfc-400e-b4ae-8b57a781b334"
      },
      "execution_count": 21,
      "outputs": [
        {
          "output_type": "stream",
          "name": "stdout",
          "text": [
            "17\n",
            "17\n",
            "17\n",
            "17\n"
          ]
        }
      ]
    },
    {
      "cell_type": "markdown",
      "source": [
        "## 논리 연산 및 비교 연산\n",
        "- 참/거짓\n",
        "- 논리 연산 잘 쓰는게 프로그래밍 핵심임\n"
      ],
      "metadata": {
        "id": "NxuomNnZ7Jfi"
      }
    },
    {
      "cell_type": "code",
      "source": [
        "print(True)\n",
        "print(False)\n",
        "print(type(True))"
      ],
      "metadata": {
        "colab": {
          "base_uri": "https://localhost:8080/"
        },
        "id": "ZgM4Y-GB743p",
        "outputId": "2b1cdf38-34cc-4d9b-b08a-9a93a624314f"
      },
      "execution_count": 23,
      "outputs": [
        {
          "output_type": "stream",
          "name": "stdout",
          "text": [
            "True\n",
            "False\n",
            "<class 'bool'>\n"
          ]
        }
      ]
    },
    {
      "cell_type": "markdown",
      "source": [
        "### 논리 연산자\n",
        "- and : A and B >AB 모두 참일떄 참\n",
        "- or  : A와 B 둘중 하나라도 참이면 참/ 둘다 거짓이면 거짓\n",
        "- not : not A : A가 참일 때 거짓, A가 거짓이면 참"
      ],
      "metadata": {
        "id": "KaVT5xL08cAb"
      }
    },
    {
      "cell_type": "code",
      "source": [
        "#교집합\n",
        "# True 또는 False 결과가 나오도록 조건식을 만들어야 함\n",
        "print(True and True)\n",
        "print(True and False)\n",
        "print(False and True)\n",
        "print(False and False)\n",
        "#합집합\n",
        "print(True or True)\n",
        "print(True or False)\n",
        "print(False or True)\n",
        "print(False or False)"
      ],
      "metadata": {
        "colab": {
          "base_uri": "https://localhost:8080/"
        },
        "id": "j7nssprjBckn",
        "outputId": "b38a684e-1774-46dd-d6d9-58cb1048a039"
      },
      "execution_count": 25,
      "outputs": [
        {
          "output_type": "stream",
          "name": "stdout",
          "text": [
            "True\n",
            "False\n",
            "False\n",
            "False\n",
            "True\n",
            "True\n",
            "True\n",
            "False\n"
          ]
        }
      ]
    },
    {
      "cell_type": "code",
      "source": [
        "not False"
      ],
      "metadata": {
        "colab": {
          "base_uri": "https://localhost:8080/"
        },
        "id": "VP6ikCe6CYMS",
        "outputId": "ad8f37b4-f3ff-4094-c50a-be194809cff5"
      },
      "execution_count": 26,
      "outputs": [
        {
          "output_type": "execute_result",
          "data": {
            "text/plain": [
              "True"
            ]
          },
          "metadata": {},
          "execution_count": 26
        }
      ]
    },
    {
      "cell_type": "markdown",
      "source": [
        "###비교연산자"
      ],
      "metadata": {
        "id": "dARn0b1YCbHD"
      }
    },
    {
      "cell_type": "code",
      "source": [
        "# True 또는 False 결과가 나오도록 \"의도적\"으로 조건식을 만들어야 함\n",
        "1 == 2 # a와 b가 같다"
      ],
      "metadata": {
        "colab": {
          "base_uri": "https://localhost:8080/"
        },
        "id": "EvvtkaVeCdWo",
        "outputId": "95a90930-b923-457b-e1d1-d572da45f18a"
      },
      "execution_count": 27,
      "outputs": [
        {
          "output_type": "execute_result",
          "data": {
            "text/plain": [
              "False"
            ]
          },
          "metadata": {},
          "execution_count": 27
        }
      ]
    },
    {
      "cell_type": "code",
      "source": [
        "1 !=2 # a와 b는 같지 않다"
      ],
      "metadata": {
        "colab": {
          "base_uri": "https://localhost:8080/"
        },
        "id": "yLa_LLynDMPl",
        "outputId": "faa2f28c-1e67-44c1-ae21-a6b090bc55da"
      },
      "execution_count": 29,
      "outputs": [
        {
          "output_type": "execute_result",
          "data": {
            "text/plain": [
              "True"
            ]
          },
          "metadata": {},
          "execution_count": 29
        }
      ]
    },
    {
      "cell_type": "code",
      "source": [
        "1 <= 2 # a는 b와 작거나 같다"
      ],
      "metadata": {
        "colab": {
          "base_uri": "https://localhost:8080/"
        },
        "id": "9cfF9UknDP3X",
        "outputId": "482c42f2-8526-4900-fec3-862cbbe6830b"
      },
      "execution_count": 28,
      "outputs": [
        {
          "output_type": "execute_result",
          "data": {
            "text/plain": [
              "True"
            ]
          },
          "metadata": {},
          "execution_count": 28
        }
      ]
    },
    {
      "cell_type": "code",
      "source": [
        "1 < 2 # a가 b보다 작다"
      ],
      "metadata": {
        "colab": {
          "base_uri": "https://localhost:8080/"
        },
        "id": "X8-Y8473DX3A",
        "outputId": "cc4a859a-009b-4492-f8ff-97525269cf22"
      },
      "execution_count": 30,
      "outputs": [
        {
          "output_type": "execute_result",
          "data": {
            "text/plain": [
              "True"
            ]
          },
          "metadata": {},
          "execution_count": 30
        }
      ]
    },
    {
      "cell_type": "markdown",
      "source": [
        "반대로도 알아서 ㅇㅇ"
      ],
      "metadata": {
        "id": "7NwfiuoFDbvW"
      }
    },
    {
      "cell_type": "markdown",
      "source": [
        "### 비교연산자 + 논리연산자"
      ],
      "metadata": {
        "id": "DglycgugD9O1"
      }
    },
    {
      "cell_type": "code",
      "source": [
        "print(1 > 0 and -2 < 0) # 비교연산자(1순위) 논리연산자(2순위)\n",
        "#True and True > True"
      ],
      "metadata": {
        "colab": {
          "base_uri": "https://localhost:8080/"
        },
        "id": "_9u8ZQYnD_XP",
        "outputId": "52437a54-19f8-442a-ae66-b8e94f81c61d"
      },
      "execution_count": 31,
      "outputs": [
        {
          "output_type": "stream",
          "name": "stdout",
          "text": [
            "True\n"
          ]
        }
      ]
    },
    {
      "cell_type": "code",
      "source": [
        "#괄호안부터\n",
        "print((3 < 0) and (-5 > 0) and (1 > 5))\n",
        "#True and False and False > False"
      ],
      "metadata": {
        "colab": {
          "base_uri": "https://localhost:8080/"
        },
        "id": "Bcpv8k3XEkUM",
        "outputId": "2b7d7064-5c3e-4fb4-b2fd-147dd8329d57"
      },
      "execution_count": 32,
      "outputs": [
        {
          "output_type": "stream",
          "name": "stdout",
          "text": [
            "False\n"
          ]
        }
      ]
    },
    {
      "cell_type": "markdown",
      "source": [
        "#Chpater 4. 변수와 자료형"
      ],
      "metadata": {
        "id": "CzGbDUUaomqD"
      }
    }
  ]
}