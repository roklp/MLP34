{
  "nbformat": 4,
  "nbformat_minor": 0,
  "metadata": {
    "colab": {
      "provenance": [],
      "authorship_tag": "ABX9TyMFrakMi01OimuMxK1p1p+/",
      "include_colab_link": true
    },
    "kernelspec": {
      "name": "python3",
      "display_name": "Python 3"
    },
    "language_info": {
      "name": "python"
    }
  },
  "cells": [
    {
      "cell_type": "markdown",
      "metadata": {
        "id": "view-in-github",
        "colab_type": "text"
      },
      "source": [
        "<a href=\"https://colab.research.google.com/github/roklp/MLP34/blob/main/240308.ipynb\" target=\"_parent\"><img src=\"https://colab.research.google.com/assets/colab-badge.svg\" alt=\"Open In Colab\"/></a>"
      ]
    },
    {
      "cell_type": "code",
      "execution_count": 30,
      "metadata": {
        "colab": {
          "base_uri": "https://localhost:8080/",
          "height": 110
        },
        "id": "eTczkCoGb-9d",
        "outputId": "d612bf3b-2ffa-4ad6-99c0-0e7f6275e7be"
      },
      "outputs": [
        {
          "output_type": "error",
          "ename": "SyntaxError",
          "evalue": "invalid syntax (<ipython-input-30-fd76d94f766d>, line 1)",
          "traceback": [
            "\u001b[0;36m  File \u001b[0;32m\"<ipython-input-30-fd76d94f766d>\"\u001b[0;36m, line \u001b[0;32m1\u001b[0m\n\u001b[0;31m    git remote add origin https://github.com/roklp/project2.git\u001b[0m\n\u001b[0m        ^\u001b[0m\n\u001b[0;31mSyntaxError\u001b[0m\u001b[0;31m:\u001b[0m invalid syntax\n"
          ]
        }
      ],
      "source": [
        "git remote add origin https://github.com/roklp/project2.git\n",
        "git branch -M main\n",
        "git push -u origin main"
      ]
    },
    {
      "cell_type": "code",
      "source": [
        "결측치 처리:\n",
        "\n",
        "결측치가 있는 행을 삭제하거나 다른 값으로 대체합니다. Pandas의 dropna() 및 fillna() 메서드를 사용합니다.\n",
        "이상치 처리:\n",
        "\n",
        "이상치를 감지하고 제거하거나 대체합니다. 이상치를 식별하는 다양한 통계 기법이 있으며, 이상치를 처리하는 방법은 데이터와 문제에 따라 다릅니다.\n",
        "데이터 형식 변환:\n",
        "\n",
        "데이터가 잘못된 형식인 경우 이를 올바른 형식으로 변환합니다. 숫자로 된 문자열을 숫자로 변환하거나, 날짜 및 시간 데이터를 datetime 형식으로 변환하는 등의 작업을 수행합니다.\n",
        "특성 스케일링:\n",
        "\n",
        "특성의 스케일이 다른 경우, 일반적으로 모든 특성을 동일한 범위 또는 분포로 조정합니다. Min-Max 스케일링 또는 표준화와 같은 방법을 사용합니다.\n",
        "특성 인코딩:\n",
        "\n",
        "범주형 특성을 숫자로 변환하여 모델에 입력할 수 있도록 합니다. 원-핫 인코딩 또는 레이블 인코딩과 같은 방법을 사용합니다.\n",
        "데이터 분할:\n",
        "\n",
        "데이터를 학습 세트와 테스트 세트로 분할합니다. 학습에 사용할 데이터와 모델의 일반화를 평가할 데이터를 분리합니다."
      ],
      "metadata": {
        "id": "PkXoHtrkvzAJ"
      },
      "execution_count": null,
      "outputs": []
    },
    {
      "cell_type": "code",
      "source": [
        "from google.colab import drive\n",
        "drive.mount('/content/drive')"
      ],
      "metadata": {
        "colab": {
          "base_uri": "https://localhost:8080/"
        },
        "id": "xY_ZAPRvcCVx",
        "outputId": "8c01f704-9047-4c71-8e54-367b2337be79"
      },
      "execution_count": 1,
      "outputs": [
        {
          "output_type": "stream",
          "name": "stdout",
          "text": [
            "Mounted at /content/drive\n"
          ]
        }
      ]
    },
    {
      "cell_type": "code",
      "source": [
        "pd.read_csv(\"/content/drive/MyDrive/data/(직장인구-상권)_2022.csv\")"
      ],
      "metadata": {
        "id": "BMwaR92Lszs8"
      },
      "execution_count": null,
      "outputs": []
    },
    {
      "cell_type": "code",
      "source": [
        "print(df.columns)"
      ],
      "metadata": {
        "colab": {
          "base_uri": "https://localhost:8080/"
        },
        "id": "Ll4gyhfOs_kA",
        "outputId": "6c94f901-b58a-4233-9944-5ec40fc5469f"
      },
      "execution_count": 20,
      "outputs": [
        {
          "output_type": "stream",
          "name": "stdout",
          "text": [
            "Index(['기준_년분기_코드', '상권_구분_코드', '상권_구분_코드_명', '상권_코드', '상권_코드_명', '총_직장_인구_수',\n",
            "       '남성_직장_인구_수', '여성_직장_인구_수', '연령대_10_직장_인구_수', '연령대_20_직장_인구_수',\n",
            "       '연령대_30_직장_인구_수', '연령대_40_직장_인구_수', '연령대_50_직장_인구_수',\n",
            "       '연령대_60_이상_직장_인구_수', '남성연령대_10_직장_인구_수', '남성연령대_20_직장_인구_수',\n",
            "       '남성연령대_30_직장_인구_수', '남성연령대_40_직장_인구_수', '남성연령대_50_직장_인구_수',\n",
            "       '남성연령대_60_이상_직장_인구_수', '여성연령대_10_직장_인구_수', '여성연령대_20_직장_인구_수',\n",
            "       '여성연령대_30_직장_인구_수', '여성연령대_40_직장_인구_수', '여성연령대_50_직장_인구_수',\n",
            "       '여성연령대_60_이상_직장_인구_수'],\n",
            "      dtype='object')\n"
          ]
        }
      ]
    },
    {
      "cell_type": "code",
      "source": [
        "import pandas as pd\n",
        "\n",
        "df = pd.read_csv(\"/content/drive/MyDrive/data/(직장인구-상권)_2022.csv\")\n",
        "\n",
        "df.drop(columns=['기준_년분기_코드', '상권_구분_코드', '상권_코드'], inplace=True)\n",
        "\n",
        "print(df)"
      ],
      "metadata": {
        "id": "3Sesc8Z-s36e"
      },
      "execution_count": null,
      "outputs": []
    },
    {
      "cell_type": "code",
      "source": [
        "import pandas as pd\n",
        "\n",
        "file_path = \"/content/drive/MyDrive/data/(직장인구-상권)_2022.csv\"\n",
        "df = pd.read_csv(file_path)\n",
        "\n",
        "# 이상치 식별 함수\n",
        "def identify_outliers(data):\n",
        "    Q1 = data.quantile(0.25)\n",
        "    Q3 = data.quantile(0.75)\n",
        "    IQR = Q3 - Q1\n",
        "    lower_bound = Q1 - 1.5 * IQR\n",
        "    upper_bound = Q3 + 1.5 * IQR\n",
        "    return data[(data < lower_bound) | (data > upper_bound)]\n",
        "\n",
        "# 이상치 식별\n",
        "outliers = identify_outliers(df[['총_직장_인구_수', '남성_직장_인구_수', '여성_직장_인구_수', '연령대_10_직장_인구_수', '연령대_20_직장_인구_수',\n",
        "                                '연령대_30_직장_인구_수', '연령대_40_직장_인구_수', '연령대_50_직장_인구_수', '연령대_60_이상_직장_인구_수',\n",
        "                                '남성연령대_10_직장_인구_수', '남성연령대_20_직장_인구_수', '남성연령대_30_직장_인구_수', '남성연령대_40_직장_인구_수',\n",
        "                                '남성연령대_50_직장_인구_수', '남성연령대_60_이상_직장_인구_수', '여성연령대_10_직장_인구_수', '여성연령대_20_직장_인구_수',\n",
        "                                '여성연령대_30_직장_인구_수', '여성연령대_40_직장_인구_수', '여성연령대_50_직장_인구_수', '여성연령대_60_이상_직장_인구_수']])\n",
        "\n",
        "# 이상치 제거\n",
        "df = df[~df.isin(outliers)].dropna()\n",
        "\n",
        "# 이상치가 제거된 데이터프레임 출력\n",
        "print(df)\n"
      ],
      "metadata": {
        "id": "Wsz6_G6XthZC"
      },
      "execution_count": null,
      "outputs": []
    },
    {
      "cell_type": "code",
      "source": [
        "import pandas as pd\n",
        "\n",
        "file_path = \"/content/drive/MyDrive/data/(직장인구-상권)_2022.csv\"\n",
        "df = pd.read_csv(file_path)\n",
        "\n",
        "# 결측치 확인\n",
        "print(df.isnull().sum())\n"
      ],
      "metadata": {
        "id": "EN1sZWceuftq"
      },
      "execution_count": null,
      "outputs": []
    },
    {
      "cell_type": "code",
      "source": [
        "# 주어진 데이터프레임의 열을 숫자형으로 변환\n",
        "df['총_직장_인구_수'] = pd.to_numeric(df['총_직장_인구_수'])\n",
        "df['남성_직장_인구_수'] = pd.to_numeric(df['남성_직장_인구_수'])\n",
        "df['여성_직장_인구_수'] = pd.to_numeric(df['여성_직장_인구_수'])\n",
        "df['연령대_10_직장_인구_수'] = pd.to_numeric(df['연령대_10_직장_인구_수'])\n",
        "df['연령대_20_직장_인구_수'] = pd.to_numeric(df['연령대_20_직장_인구_수'])\n",
        "df['연령대_30_직장_인구_수'] = pd.to_numeric(df['연령대_30_직장_인구_수'])\n",
        "df['연령대_40_직장_인구_수'] = pd.to_numeric(df['연령대_40_직장_인구_수'])\n",
        "df['연령대_50_직장_인구_수'] = pd.to_numeric(df['연령대_50_직장_인구_수'])\n",
        "df['연령대_60_이상_직장_인구_수'] = pd.to_numeric(df['연령대_60_이상_직장_인구_수'])\n",
        "df['남성연령대_10_직장_인구_수'] = pd.to_numeric(df['남성연령대_10_직장_인구_수'])\n",
        "df['남성연령대_20_직장_인구_수'] = pd.to_numeric(df['남성연령대_20_직장_인구_수'])\n",
        "df['남성연령대_30_직장_인구_수'] = pd.to_numeric(df['남성연령대_30_직장_인구_수'])\n",
        "df['남성연령대_40_직장_인구_수'] = pd.to_numeric(df['남성연령대_40_직장_인구_수'])\n",
        "df['남성연령대_50_직장_인구_수'] = pd.to_numeric(df['남성연령대_50_직장_인구_수'])\n",
        "df['남성연령대_60_이상_직장_인구_수'] = pd.to_numeric(df['남성연령대_60_이상_직장_인구_수'])\n",
        "df['여성연령대_10_직장_인구_수'] = pd.to_numeric(df['여성연령대_10_직장_인구_수'])\n",
        "df['여성연령대_20_직장_인구_수'] = pd.to_numeric(df['여성연령대_20_직장_인구_수'])\n",
        "df['여성연령대_30_직장_인구_수'] = pd.to_numeric(df['여성연령대_30_직장_인구_수'])\n",
        "df['여성연령대_40_직장_인구_수'] = pd.to_numeric(df['여성연령대_40_직장_인구_수'])\n",
        "df['여성연령대_50_직장_인구_수'] = pd.to_numeric(df['여성연령대_50_직장_인구_수'])\n",
        "df['여성연령대_60_이상_직장_인구_수'] = pd.to_numeric(df['여성연령대_60_이상_직장_인구_수'])\n",
        "\n",
        "# 데이터프레임의 열들의 형식 확인\n",
        "print(df.dtypes)\n"
      ],
      "metadata": {
        "id": "jI4KMBQZwzCB"
      },
      "execution_count": null,
      "outputs": []
    },
    {
      "cell_type": "code",
      "source": [
        "from sklearn.preprocessing import MinMaxScaler, StandardScaler\n",
        "\n",
        "min_max_scaler = MinMaxScaler()\n",
        "\n",
        "standard_scaler = StandardScaler()\n",
        "\n",
        "# Min-Max 스케일링할 열 선택\n",
        "columns_to_scale_min_max = ['총_직장_인구_수', '남성_직장_인구_수', '여성_직장_인구_수', '연령대_10_직장_인구_수',\n",
        "                            '연령대_20_직장_인구_수', '연령대_30_직장_인구_수', '연령대_40_직장_인구_수', '연령대_50_직장_인구_수',\n",
        "                            '연령대_60_이상_직장_인구_수', '남성연령대_10_직장_인구_수', '남성연령대_20_직장_인구_수',\n",
        "                            '남성연령대_30_직장_인구_수', '남성연령대_40_직장_인구_수', '남성연령대_50_직장_인구_수',\n",
        "                            '남성연령대_60_이상_직장_인구_수', '여성연령대_10_직장_인구_수', '여성연령대_20_직장_인구_수',\n",
        "                            '여성연령대_30_직장_인구_수', '여성연령대_40_직장_인구_수', '여성연령대_50_직장_인구_수',\n",
        "                            '여성연령대_60_이상_직장_인구_수']\n",
        "\n",
        "# 표준화할 열 선택\n",
        "columns_to_scale_standard = ['총_직장_인구_수', '남성_직장_인구_수', '여성_직장_인구_수', '연령대_10_직장_인구_수',\n",
        "                             '연령대_20_직장_인구_수', '연령대_30_직장_인구_수', '연령대_40_직장_인구_수', '연령대_50_직장_인구_수',\n",
        "                             '연령대_60_이상_직장_인구_수', '남성연령대_10_직장_인구_수', '남성연령대_20_직장_인구_수',\n",
        "                             '남성연령대_30_직장_인구_수', '남성연령대_40_직장_인구_수', '남성연령대_50_직장_인구_수',\n",
        "                             '남성연령대_60_이상_직장_인구_수', '여성연령대_10_직장_인구_수', '여성연령대_20_직장_인구_수',\n",
        "                             '여성연령대_30_직장_인구_수', '여성연령대_40_직장_인구_수', '여성연령대_50_직장_인구_수',\n",
        "                             '여성연령대_60_이상_직장_인구_수']\n",
        "\n",
        "# Min-Max 스케일링 수행\n",
        "df[columns_to_scale_min_max] = min_max_scaler.fit_transform(df[columns_to_scale_min_max])\n",
        "\n",
        "# 표준화 수행\n",
        "df[columns_to_scale_standard] = standard_scaler.fit_transform(df[columns_to_scale_standard])\n",
        "\n",
        "# 결과 출력\n",
        "print(df.head())\n"
      ],
      "metadata": {
        "id": "Ilm3q8wSxWcr"
      },
      "execution_count": null,
      "outputs": []
    },
    {
      "cell_type": "code",
      "source": [
        "# 원-핫 인코딩 수행\n",
        "df_encoded = pd.get_dummies(df)\n",
        "\n",
        "# 결과 출력\n",
        "print(df_encoded.head())\n"
      ],
      "metadata": {
        "colab": {
          "base_uri": "https://localhost:8080/"
        },
        "id": "vUIQtUx7xpvc",
        "outputId": "edb25660-982f-4b84-bdf6-3b059f9d02ce"
      },
      "execution_count": 29,
      "outputs": [
        {
          "output_type": "stream",
          "name": "stdout",
          "text": [
            "    기준_년분기_코드    상권_코드  총_직장_인구_수  남성_직장_인구_수  여성_직장_인구_수  연령대_10_직장_인구_수  \\\n",
            "1       20221  3110018   2.325522    1.648247    3.053869       -0.540308   \n",
            "2       20221  3110006  -0.928336   -0.851477   -0.924631       -0.540308   \n",
            "8       20221  3110019   0.280703    0.417516    0.036031       -0.540308   \n",
            "9       20221  3130016  -1.029766   -0.947130   -1.021668       -0.540308   \n",
            "10      20221  3130019  -0.920222   -0.813216   -0.963446       -0.540308   \n",
            "\n",
            "    연령대_20_직장_인구_수  연령대_30_직장_인구_수  연령대_40_직장_인구_수  연령대_50_직장_인구_수  ...  \\\n",
            "1         1.617582        1.767390        2.276494        1.626477  ...   \n",
            "2        -0.797493       -0.744250       -0.896741       -0.935052  ...   \n",
            "8         0.410045        0.582655        0.281441        0.155663  ...   \n",
            "9        -0.851161       -0.839029       -0.990995       -1.017682  ...   \n",
            "10       -0.690156       -0.760046       -0.928159       -0.951578  ...   \n",
            "\n",
            "    상권_코드_명_회기역 1번  상권_코드_명_회기역 2번  상권_코드_명_회현역 1번  상권_코드_명_효문고등학교  \\\n",
            "1                0               0               0               0   \n",
            "2                0               0               0               0   \n",
            "8                0               0               0               0   \n",
            "9                0               0               0               0   \n",
            "10               0               0               0               0   \n",
            "\n",
            "    상권_코드_명_효창공원앞역 2번  상권_코드_명_효창공원앞역 6번  상권_코드_명_효창동주민센터  상권_코드_명_후암시장  \\\n",
            "1                   0                  0                0             0   \n",
            "2                   0                  0                0             0   \n",
            "8                   0                  0                0             0   \n",
            "9                   0                  0                0             0   \n",
            "10                  0                  0                0             0   \n",
            "\n",
            "    상권_코드_명_흑리단길  상권_코드_명_흑석2치안센터  \n",
            "1              0                0  \n",
            "2              0                0  \n",
            "8              0                0  \n",
            "9              0                0  \n",
            "10             0                0  \n",
            "\n",
            "[5 rows x 1169 columns]\n"
          ]
        }
      ]
    },
    {
      "cell_type": "code",
      "source": [],
      "metadata": {
        "id": "lasiHpZHxrxf"
      },
      "execution_count": null,
      "outputs": []
    }
  ]
}