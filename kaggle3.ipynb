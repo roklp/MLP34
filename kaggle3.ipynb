{
  "nbformat": 4,
  "nbformat_minor": 0,
  "metadata": {
    "colab": {
      "provenance": [],
      "authorship_tag": "ABX9TyOEqqaAa1YT1qnFb0+8T24p",
      "include_colab_link": true
    },
    "kernelspec": {
      "name": "python3",
      "display_name": "Python 3"
    },
    "language_info": {
      "name": "python"
    }
  },
  "cells": [
    {
      "cell_type": "markdown",
      "metadata": {
        "id": "view-in-github",
        "colab_type": "text"
      },
      "source": [
        "<a href=\"https://colab.research.google.com/github/roklp/MLP34/blob/main/kaggle3.ipynb\" target=\"_parent\"><img src=\"https://colab.research.google.com/assets/colab-badge.svg\" alt=\"Open In Colab\"/></a>"
      ]
    },
    {
      "cell_type": "code",
      "execution_count": 1,
      "metadata": {
        "colab": {
          "base_uri": "https://localhost:8080/"
        },
        "id": "t8K9JxIjDLe9",
        "outputId": "acfaa8eb-03e8-437d-a5f6-1bbf67c48cb5"
      },
      "outputs": [
        {
          "output_type": "stream",
          "name": "stdout",
          "text": [
            "Mounted at /content/drive\n"
          ]
        }
      ],
      "source": [
        "from google.colab import drive\n",
        "drive.mount('/content/drive')"
      ]
    },
    {
      "cell_type": "code",
      "source": [
        "import numpy as np\n",
        "import matplotlib.pyplot as plt\n",
        "import pandas as pd"
      ],
      "metadata": {
        "id": "o6pVkt13DVmT"
      },
      "execution_count": 2,
      "outputs": []
    },
    {
      "cell_type": "code",
      "source": [
        "df = pd.read_csv('/content/drive/MyDrive/data/kaggle1/train.csv', index_col=0)\n",
        "\n",
        "df.head()"
      ],
      "metadata": {
        "id": "NICZAMuhDYoi"
      },
      "execution_count": null,
      "outputs": []
    },
    {
      "cell_type": "code",
      "source": [
        "columns_list = df.columns.tolist()\n",
        "print(columns_list)"
      ],
      "metadata": {
        "colab": {
          "base_uri": "https://localhost:8080/"
        },
        "id": "Ei0i7gzbDyiK",
        "outputId": "146c5cf6-2ca5-4c1f-973c-b5c68b61d3e7"
      },
      "execution_count": 16,
      "outputs": [
        {
          "output_type": "stream",
          "name": "stdout",
          "text": [
            "['Gender', 'Age', 'Height', 'Weight', 'family_history_with_overweight', 'FAVC', 'FCVC', 'NCP', 'CAEC', 'SMOKE', 'CH2O', 'SCC', 'FAF', 'TUE', 'CALC', 'MTRANS', 'NObeyesdad']\n"
          ]
        }
      ]
    },
    {
      "cell_type": "code",
      "source": [
        "from sklearn.preprocessing import StandardScaler\n",
        "import pandas as pd\n",
        "\n",
        "scaler = StandardScaler()\n",
        "\n",
        "df_numerical = df.select_dtypes(include=['float64', 'int64'])  # 숫자형 열만 추출\n",
        "\n",
        "scaler.fit(df_numerical)\n",
        "numerical_scaled = scaler.transform(df_numerical)\n",
        "df_numerical_scaled = pd.DataFrame(data=numerical_scaled, columns=df_numerical.columns)\n",
        "\n",
        "# 스케일링된 데이터의 통계량 출력\n",
        "print('feature들의 평균 값')\n",
        "print(df_numerical_scaled.mean())\n",
        "print('\\nfeature들의 분산 값')\n",
        "print(df_numerical_scaled.var())\n"
      ],
      "metadata": {
        "id": "W16_8dVtEPgZ"
      },
      "execution_count": null,
      "outputs": []
    },
    {
      "cell_type": "code",
      "source": [],
      "metadata": {
        "colab": {
          "base_uri": "https://localhost:8080/"
        },
        "id": "uky8TDlQGtAr",
        "outputId": "8991410f-fe60-4700-82c3-e74f5ba26d46"
      },
      "execution_count": 19,
      "outputs": [
        {
          "output_type": "stream",
          "name": "stdout",
          "text": [
            "[1 1 1 ... 0 1 1]\n"
          ]
        }
      ]
    },
    {
      "cell_type": "code",
      "source": [
        "from sklearn.preprocessing import StandardScaler\n",
        "\n",
        "def apply_preprocessing(data, scaler):\n",
        "    features = data.copy(deep=True)\n",
        "    # numerical dataframe\n",
        "    mask_numeric = features.dtypes == float\n",
        "    df_numerical = features.loc[:, mask_numeric]\n",
        "    # categorical dataframe\n",
        "    mask_categorical = features.dtypes != float\n",
        "    df_categorical = features.loc[:, mask_categorical]\n",
        "    # 스케일러를 사용하여 데이터 표준화\n",
        "    numerical_scaled = scaler.transform(df_numerical)\n",
        "    df_numerical_scaled = pd.DataFrame(data=numerical_scaled, columns=df_numerical.columns)\n",
        "    # label encoding\n",
        "    df_encoded = df_categorical.copy(deep=True)\n",
        "    df_encoded['Gender'] = df_categorical['Gender'].map({'Male':0, 'Female':1})\n",
        "    df_encoded['family_history_with_overweight'] = df_categorical['family_history_with_overweight'].map({'no':0, 'yes':1})\n",
        "    df_encoded['FAVC'] = df_categorical['FAVC'].map({'no':0, 'yes':1})\n",
        "    df_encoded['CAEC'] = df_categorical['CAEC'].map({'no':0, 'Sometimes':1, 'Frequently':2, 'Always':3})\n",
        "    df_encoded['SMOKE'] = df_categorical['SMOKE'].map({'no':0, 'yes':1})\n",
        "    df_encoded['SCC'] = df_categorical['SCC'].map({'no':0, 'yes':1})\n",
        "    df_encoded['CALC'] = df_categorical['CALC'].map({'no':0, 'Sometimes':1, 'Frequently':2, 'Always':3})\n",
        "    # one-hot encoding\n",
        "    df_onehot = pd.get_dummies(df_categorical['MTRANS']).astype(int)\n",
        "    df_encoded.drop('MTRANS', axis=1, inplace=True)\n",
        "    # one feature of df_encoded is redundant; we can remove it\n",
        "    df_encoded = pd.concat([df_encoded, df_onehot.iloc[:, :-1]], axis = 1)\n",
        "    df_numerical_scaled.reset_index(drop=True, inplace=True)\n",
        "    df_encoded.reset_index(drop=True, inplace=True)\n",
        "    # concatenate\n",
        "    df_all_features = pd.concat([df_numerical_scaled, df_encoded], axis = 1)\n",
        "    return df_all_features\n"
      ],
      "metadata": {
        "id": "uVhj3oczEbhp"
      },
      "execution_count": 13,
      "outputs": []
    },
    {
      "cell_type": "code",
      "source": [
        "import pandas as pd\n",
        "from sklearn.preprocessing import StandardScaler, LabelEncoder\n",
        "from sklearn.model_selection import train_test_split\n",
        "import xgboost as xgb\n",
        "from sklearn.metrics import accuracy_score\n",
        "\n",
        "# 데이터 불러오기\n",
        "df = pd.read_csv('/content/drive/MyDrive/data/kaggle1/train.csv', index_col=0)\n",
        "\n",
        "# 전처리 함수 정의\n",
        "def apply_preprocessing(data, scaler):\n",
        "    features = data.copy(deep=True)\n",
        "    # numerical dataframe\n",
        "    mask_numeric = features.dtypes == float\n",
        "    df_numerical = features.loc[:, mask_numeric]\n",
        "    # categorical dataframe\n",
        "    mask_categorical = features.dtypes != float\n",
        "    df_categorical = features.loc[:, mask_categorical]\n",
        "    # 스케일러를 사용하여 데이터 표준화\n",
        "    numerical_scaled = scaler.transform(df_numerical)\n",
        "    df_numerical_scaled = pd.DataFrame(data=numerical_scaled, columns=df_numerical.columns)\n",
        "    # label encoding\n",
        "    df_encoded = df_categorical.copy(deep=True)\n",
        "    df_encoded['Gender'] = df_categorical['Gender'].map({'Male':0, 'Female':1})\n",
        "    df_encoded['FAVC'] = df_categorical['FAVC'].map({'no':0, 'yes':1})\n",
        "    df_encoded['CAEC'] = df_categorical['CAEC'].map({'no':0, 'Sometimes':1, 'Frequently':2, 'Always':3})\n",
        "    df_encoded['SMOKE'] = df_categorical['SMOKE'].map({'no':0, 'yes':1})\n",
        "    df_encoded['SCC'] = df_categorical['SCC'].map({'no':0, 'yes':1})\n",
        "    df_encoded['CALC'] = df_categorical['CALC'].map({'no':0, 'Sometimes':1, 'Frequently':2, 'Always':3})\n",
        "    # one-hot encoding\n",
        "    df_onehot = pd.get_dummies(df_categorical['MTRANS']).astype(int)\n",
        "    df_encoded.drop('MTRANS', axis=1, inplace=True)\n",
        "    # one feature of df_encoded is redundant; we can remove it\n",
        "    df_encoded = pd.concat([df_encoded, df_onehot.iloc[:, :-1]], axis = 1)\n",
        "    df_numerical_scaled.reset_index(drop=True, inplace=True)\n",
        "    df_encoded.reset_index(drop=True, inplace=True)\n",
        "    # concatenate\n",
        "    df_all_features = pd.concat([df_numerical_scaled, df_encoded], axis = 1)\n",
        "    return df_all_features\n",
        "\n",
        "# StandardScaler 객체 생성\n",
        "scaler = StandardScaler()\n",
        "# 수치형 열 추출 및 스케일링\n",
        "df_numerical = df.select_dtypes(include=['float64', 'int64'])\n",
        "scaler.fit(df_numerical)\n",
        "\n",
        "# 전처리 수행\n",
        "df_preprocessed = apply_preprocessing(df, scaler)\n",
        "\n",
        "# 독립변수와 종속변수 분리\n",
        "X = df_preprocessed.drop(['family_history_with_overweight', 'NObeyesdad'], axis=1)  # 종속변수와 불필요한 열 제거\n",
        "y = df_preprocessed['family_history_with_overweight']\n",
        "\n",
        "# 훈련 데이터와 테스트 데이터 분할\n",
        "X_train, X_test, y_train, y_test = train_test_split(X, y, test_size=0.2, random_state=42)\n",
        "\n",
        "# LabelEncoder 객체 생성\n",
        "label_encoder = LabelEncoder()\n",
        "\n",
        "# 종속 변수에 Label Encoding 적용\n",
        "y_train_encoded = label_encoder.fit_transform(y_train)\n",
        "y_test_encoded = label_encoder.transform(y_test)\n",
        "\n",
        "# XGBoost 모델 학습\n",
        "model = xgb.XGBClassifier()\n",
        "model.fit(X_train, y_train_encoded)\n",
        "\n",
        "# 예측\n",
        "y_pred_encoded = model.predict(X_test)\n",
        "\n",
        "# 정확도 평가\n",
        "accuracy = accuracy_score(y_test_encoded, y_pred_encoded)\n",
        "print(\"정확도:\", accuracy)\n"
      ],
      "metadata": {
        "colab": {
          "base_uri": "https://localhost:8080/"
        },
        "id": "jMdJAJy9DpEn",
        "outputId": "afde58c9-f7a9-4d58-9263-2e8b56f6945e"
      },
      "execution_count": 28,
      "outputs": [
        {
          "output_type": "stream",
          "name": "stdout",
          "text": [
            "정확도: 0.8622350674373795\n"
          ]
        }
      ]
    },
    {
      "cell_type": "code",
      "source": [
        "from sklearn.model_selection import GridSearchCV\n",
        "\n",
        "# XGBoost 모델 생성\n",
        "model = xgb.XGBClassifier()\n",
        "\n",
        "# 튜닝할 하이퍼파라미터 범위 지정\n",
        "param_grid = {\n",
        "    'n_estimators': [100, 200, 300],\n",
        "    'max_depth': [3, 5, 7],\n",
        "    'learning_rate': [0.01, 0.1, 0.3]\n",
        "}\n",
        "\n",
        "# GridSearchCV 객체 생성\n",
        "grid_search = GridSearchCV(estimator=model, param_grid=param_grid, cv=3, scoring='accuracy', verbose=2)\n",
        "\n",
        "# 모델 학습 및 튜닝\n",
        "grid_search.fit(X_train, y_train_encoded)\n",
        "\n",
        "# 최적의 하이퍼파라미터 출력\n",
        "print(\"최적의 하이퍼파라미터:\", grid_search.best_params_)\n",
        "\n",
        "# 튜닝된 모델로 예측\n",
        "y_pred_tuned = grid_search.predict(X_test)\n",
        "\n",
        "# 정확도 평가\n",
        "accuracy_tuned = accuracy_score(y_test_encoded, y_pred_tuned)\n",
        "print(\"조정된 모델의 정확도:\", accuracy_tuned)\n"
      ],
      "metadata": {
        "id": "NK5FGBN1Nv1Z"
      },
      "execution_count": null,
      "outputs": []
    },
    {
      "cell_type": "code",
      "source": [
        "# 최적의 하이퍼파라미터를 적용하여 XGBoost 모델 생성\n",
        "best_model = xgb.XGBClassifier(learning_rate=0.01, max_depth=7, n_estimators=300)\n",
        "\n",
        "# 훈련 데이터로 모델 학습\n",
        "best_model.fit(X_train, y_train_encoded)\n",
        "\n",
        "# 테스트 데이터로 예측\n",
        "y_pred_best = best_model.predict(X_test)\n",
        "\n",
        "# 정확도 평가\n",
        "accuracy_best = accuracy_score(y_test_encoded, y_pred_best)\n",
        "print(\"최적 모델의 정확도:\", accuracy_best)\n"
      ],
      "metadata": {
        "colab": {
          "base_uri": "https://localhost:8080/"
        },
        "id": "ameekoeAOfw3",
        "outputId": "029682d7-2cbb-4f9a-fda3-dd6e0d1590a8"
      },
      "execution_count": 31,
      "outputs": [
        {
          "output_type": "stream",
          "name": "stdout",
          "text": [
            "최적 모델의 정확도: 0.86873795761079\n"
          ]
        }
      ]
    },
    {
      "cell_type": "code",
      "source": [
        "from sklearn.model_selection import GridSearchCV\n",
        "\n",
        "# 튜닝할 하이퍼파라미터 그리드 생성\n",
        "param_grid = {\n",
        "    'learning_rate': [0.01, 0.05, 0.1],\n",
        "    'max_depth': [3, 5, 7],\n",
        "    'n_estimators': [100, 200, 300]\n",
        "}\n",
        "\n",
        "# GridSearchCV를 사용하여 모델 튜닝\n",
        "grid_search = GridSearchCV(estimator=xgb.XGBClassifier(), param_grid=param_grid, cv=3)\n",
        "grid_search.fit(X_train, y_train_encoded)\n",
        "\n",
        "# 최적의 하이퍼파라미터와 정확도 출력\n",
        "print(\"최적의 하이퍼파라미터:\", grid_search.best_params_)\n",
        "print(\"최적 모델의 정확도:\", grid_search.best_score_)\n"
      ],
      "metadata": {
        "colab": {
          "base_uri": "https://localhost:8080/"
        },
        "id": "XP2QXPNFQATa",
        "outputId": "cb4cb069-c3f5-4b60-bfb1-95ce5f033616"
      },
      "execution_count": 33,
      "outputs": [
        {
          "output_type": "stream",
          "name": "stdout",
          "text": [
            "최적의 하이퍼파라미터: {'learning_rate': 0.05, 'max_depth': 5, 'n_estimators': 300}\n",
            "최적 모델의 정확도: 0.882994275350589\n"
          ]
        }
      ]
    },
    {
      "cell_type": "code",
      "source": [
        "best_model = xgb.XGBClassifier(learning_rate=0.05, max_depth=5, n_estimators=300)\n",
        "\n",
        "best_model.fit(X_train, y_train_encoded)\n",
        "\n",
        "y_pred_best = best_model.predict(X_test)\n",
        "\n",
        "accuracy_best = accuracy_score(y_test_encoded, y_pred_best)\n",
        "print(\"최적 모델의 정확도:\", accuracy_best)\n"
      ],
      "metadata": {
        "colab": {
          "base_uri": "https://localhost:8080/"
        },
        "id": "oGYUynCERhEs",
        "outputId": "f3563e47-1a71-49bc-de63-f70a268a1aaa"
      },
      "execution_count": 34,
      "outputs": [
        {
          "output_type": "stream",
          "name": "stdout",
          "text": [
            "최적 모델의 정확도: 0.8709055876685935\n"
          ]
        }
      ]
    },
    {
      "cell_type": "code",
      "source": [
        "from sklearn.model_selection import cross_val_score\n",
        "\n",
        "best_model = xgb.XGBClassifier(learning_rate=0.05, max_depth=5, n_estimators=300)\n",
        "\n",
        "# 교차 검증 수행\n",
        "cv_scores = cross_val_score(best_model, X_train, y_train_encoded, cv=5)  # 5-fold cross-validation\n",
        "\n",
        "# 교차 검증 결과 출력\n",
        "print(\"교차 검증 정확도:\", cv_scores)\n",
        "print(\"평균 정확도:\", cv_scores.mean())\n"
      ],
      "metadata": {
        "colab": {
          "base_uri": "https://localhost:8080/"
        },
        "id": "iPUW9JBbR3XM",
        "outputId": "22ea760e-8127-46dd-f9d0-0653b64b3cfd"
      },
      "execution_count": 35,
      "outputs": [
        {
          "output_type": "stream",
          "name": "stdout",
          "text": [
            "교차 검증 정확도: [0.87537628 0.88527552 0.88286661 0.88256549 0.88467329]\n",
            "평균 정확도: 0.8821514377428876\n"
          ]
        }
      ]
    },
    {
      "cell_type": "code",
      "source": [
        "from sklearn.model_selection import GridSearchCV\n",
        "\n",
        "# XGBoost 모델 생성\n",
        "model = xgb.XGBClassifier()\n",
        "\n",
        "# 하이퍼파라미터 그리드 설정\n",
        "param_grid = {\n",
        "    'learning_rate': [0.01, 0.05, 0.1],\n",
        "    'max_depth': [3, 5, 7],\n",
        "    'n_estimators': [100, 200, 300]\n",
        "}\n",
        "\n",
        "# 그리드 서치 수행\n",
        "grid_search = GridSearchCV(estimator=model, param_grid=param_grid, cv=5, scoring='accuracy')\n",
        "grid_search.fit(X_train, y_train_encoded)\n",
        "\n",
        "# 최적의 하이퍼파라미터와 정확도 출력\n",
        "print(\"최적의 하이퍼파라미터:\", grid_search.best_params_)\n",
        "print(\"최적 모델의 정확도:\", grid_search.best_score_)\n"
      ],
      "metadata": {
        "colab": {
          "base_uri": "https://localhost:8080/"
        },
        "id": "4jnAqP0OSEBv",
        "outputId": "e82e8805-2372-4210-edac-eb553a2aa76d"
      },
      "execution_count": 36,
      "outputs": [
        {
          "output_type": "stream",
          "name": "stdout",
          "text": [
            "최적의 하이퍼파라미터: {'learning_rate': 0.05, 'max_depth': 5, 'n_estimators': 200}\n",
            "최적 모델의 정확도: 0.8829342075613547\n"
          ]
        }
      ]
    },
    {
      "cell_type": "code",
      "source": [
        "best_model = xgb.XGBClassifier(learning_rate=0.05, max_depth=5, n_estimators=200)\n",
        "\n",
        "best_model.fit(X_train, y_train_encoded)\n",
        "\n",
        "y_pred_best = best_model.predict(X_test)\n",
        "\n",
        "accuracy_best = accuracy_score(y_test_encoded, y_pred_best)\n",
        "print(\"최적 모델의 정확도:\", accuracy_best)\n"
      ],
      "metadata": {
        "colab": {
          "base_uri": "https://localhost:8080/"
        },
        "id": "KUs8vT-nSoCh",
        "outputId": "0550a506-bf32-4ee5-d2bd-0427d6aaa32b"
      },
      "execution_count": 37,
      "outputs": [
        {
          "output_type": "stream",
          "name": "stdout",
          "text": [
            "최적 모델의 정확도: 0.8704238921001927\n"
          ]
        }
      ]
    },
    {
      "cell_type": "code",
      "source": [
        "import pandas as pd\n",
        "from sklearn.preprocessing import StandardScaler, LabelEncoder\n",
        "from sklearn.model_selection import train_test_split, cross_val_score\n",
        "from sklearn.metrics import accuracy_score\n",
        "import xgboost as xgb\n",
        "from imblearn.over_sampling import SMOTE\n",
        "\n",
        "# 데이터 불러오기\n",
        "df = pd.read_csv('/content/drive/MyDrive/data/kaggle1/train.csv', index_col=0)\n",
        "\n",
        "# 전처리 함수 정의\n",
        "def apply_preprocessing(data, scaler):\n",
        "    features = data.copy(deep=True)\n",
        "    mask_numeric = features.dtypes == float\n",
        "    df_numerical = features.loc[:, mask_numeric]\n",
        "    mask_categorical = features.dtypes != float\n",
        "    df_categorical = features.loc[:, mask_categorical]\n",
        "    numerical_scaled = scaler.transform(df_numerical)\n",
        "    df_numerical_scaled = pd.DataFrame(data=numerical_scaled, columns=df_numerical.columns)\n",
        "    df_encoded = df_categorical.copy(deep=True)\n",
        "    df_encoded['Gender'] = df_categorical['Gender'].map({'Male':0, 'Female':1})\n",
        "    df_encoded['FAVC'] = df_categorical['FAVC'].map({'no':0, 'yes':1})\n",
        "    df_encoded['CAEC'] = df_categorical['CAEC'].map({'no':0, 'Sometimes':1, 'Frequently':2, 'Always':3})\n",
        "    df_encoded['SMOKE'] = df_categorical['SMOKE'].map({'no':0, 'yes':1})\n",
        "    df_encoded['SCC'] = df_categorical['SCC'].map({'no':0, 'yes':1})\n",
        "    df_encoded['CALC'] = df_categorical['CALC'].map({'no':0, 'Sometimes':1, 'Frequently':2, 'Always':3})\n",
        "    df_onehot = pd.get_dummies(df_categorical['MTRANS']).astype(int)\n",
        "    df_encoded.drop('MTRANS', axis=1, inplace=True)\n",
        "    df_encoded = pd.concat([df_encoded, df_onehot.iloc[:, :-1]], axis = 1)\n",
        "    df_numerical_scaled.reset_index(drop=True, inplace=True)\n",
        "    df_encoded.reset_index(drop=True, inplace=True)\n",
        "    df_all_features = pd.concat([df_numerical_scaled, df_encoded], axis = 1)\n",
        "    return df_all_features\n",
        "\n",
        "# StandardScaler 객체 생성\n",
        "scaler = StandardScaler()\n",
        "df_numerical = df.select_dtypes(include=['float64', 'int64'])\n",
        "scaler.fit(df_numerical)\n",
        "\n",
        "# 전처리 수행\n",
        "df_preprocessed = apply_preprocessing(df, scaler)\n",
        "\n",
        "# 독립변수와 종속변수 분리\n",
        "X = df_preprocessed.drop(['family_history_with_overweight', 'NObeyesdad'], axis=1)\n",
        "y = df_preprocessed['family_history_with_overweight']\n",
        "\n",
        "# 종속 변수 Label Encoding\n",
        "label_encoder = LabelEncoder()\n",
        "y_encoded = label_encoder.fit_transform(y)\n",
        "\n",
        "# SMOTE 적용\n",
        "smote = SMOTE(random_state=42)\n",
        "X_smote, y_smote = smote.fit_resample(X, y_encoded)\n",
        "\n",
        "# 훈련 데이터와 테스트 데이터 분할\n",
        "X_train, X_test, y_train, y_test = train_test_split(X_smote, y_smote, test_size=0.2, random_state=42)\n",
        "\n",
        "# XGBoost 모델 생성\n",
        "model = xgb.XGBClassifier()\n",
        "\n",
        "# 교차 검증 수행\n",
        "cv_scores = cross_val_score(model, X_train, y_train, cv=5)\n",
        "print(\"교차 검증 정확도:\", cv_scores)\n",
        "print(\"평균 정확도:\", cv_scores.mean())\n",
        "\n",
        "# 하이퍼파라미터 튜닝\n",
        "best_model = xgb.XGBClassifier(learning_rate=0.05, max_depth=5, n_estimators=200)\n",
        "best_model.fit(X_train, y_train)\n",
        "y_pred_best = best_model.predict(X_test)\n",
        "accuracy_best = accuracy_score(y_test, y_pred_best)\n",
        "print(\"최적 모델의 정확도:\", accuracy_best)\n"
      ],
      "metadata": {
        "colab": {
          "base_uri": "https://localhost:8080/"
        },
        "id": "1hrkq1ZxS_Ux",
        "outputId": "dfc13b5c-a8cb-4a5c-c722-427dc76118ce"
      },
      "execution_count": 40,
      "outputs": [
        {
          "output_type": "stream",
          "name": "stdout",
          "text": [
            "교차 검증 정확도: [0.90707071 0.90174472 0.89952241 0.89713446 0.90668626]\n",
            "평균 정확도: 0.9024317114097358\n",
            "최적 모델의 정확도: 0.8851013811342933\n"
          ]
        }
      ]
    }
  ]
}