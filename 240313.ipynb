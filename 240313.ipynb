{
  "nbformat": 4,
  "nbformat_minor": 0,
  "metadata": {
    "colab": {
      "provenance": [],
      "authorship_tag": "ABX9TyP1xtShmVg9rkBrScoWMpPD",
      "include_colab_link": true
    },
    "kernelspec": {
      "name": "python3",
      "display_name": "Python 3"
    },
    "language_info": {
      "name": "python"
    }
  },
  "cells": [
    {
      "cell_type": "markdown",
      "metadata": {
        "id": "view-in-github",
        "colab_type": "text"
      },
      "source": [
        "<a href=\"https://colab.research.google.com/github/roklp/MLP34/blob/main/240313.ipynb\" target=\"_parent\"><img src=\"https://colab.research.google.com/assets/colab-badge.svg\" alt=\"Open In Colab\"/></a>"
      ]
    },
    {
      "cell_type": "code",
      "source": [
        "from google.colab import drive\n",
        "drive.mount('/content/drive')"
      ],
      "metadata": {
        "colab": {
          "base_uri": "https://localhost:8080/"
        },
        "id": "_7ta1xTocMBN",
        "outputId": "38d338f9-db9e-4a2c-f1f6-bf44e157edb1"
      },
      "execution_count": 1,
      "outputs": [
        {
          "output_type": "stream",
          "name": "stdout",
          "text": [
            "Mounted at /content/drive\n"
          ]
        }
      ]
    },
    {
      "cell_type": "code",
      "source": [
        "import pandas as pd\n",
        "from sklearn.preprocessing import StandardScaler\n",
        "\n",
        "# 데이터 불러오기\n",
        "data = pd.read_csv(\"/content/drive/MyDrive/data/머신러닝/data/final_reordered.csv\")\n",
        "\n",
        "# 범주형 변수를 원-핫 인코딩하여 수치형으로 변환\n",
        "data_encoded = pd.get_dummies(data)\n",
        "\n",
        "# 스케일링할 열 선택\n",
        "columns_to_scale = data_encoded.columns\n",
        "\n",
        "# 스케일러 객체 생성\n",
        "scaler = StandardScaler()\n",
        "\n",
        "# 데이터 스케일링\n",
        "data_scaled = scaler.fit_transform(data_encoded[columns_to_scale])\n",
        "\n",
        "# 스케일링된 데이터를 다시 데이터프레임으로 변환\n",
        "data_scaled_df = pd.DataFrame(data_scaled, columns=columns_to_scale)\n",
        "\n",
        "# 스케일링된 데이터프레임 확인\n",
        "print(data_scaled_df)\n"
      ],
      "metadata": {
        "id": "rcbsp55EcRi3"
      },
      "execution_count": null,
      "outputs": []
    },
    {
      "cell_type": "code",
      "source": [
        "import seaborn as sns\n",
        "import matplotlib.pyplot as plt\n",
        "\n",
        "# 히트맵 그리기\n",
        "plt.figure(figsize=(10, 8))\n",
        "sns.heatmap(data_scaled_df.corr(), annot=True, cmap='coolwarm', fmt=\".2f\")\n",
        "plt.title('Correlation Heatmap')\n",
        "plt.show()\n"
      ],
      "metadata": {
        "id": "aItr2NYtdwDh"
      },
      "execution_count": null,
      "outputs": []
    },
    {
      "cell_type": "code",
      "source": [
        "import seaborn as sns\n",
        "import matplotlib.pyplot as plt\n",
        "\n",
        "# 히스토그램 그리기\n",
        "plt.figure(figsize=(10, 6))\n",
        "sns.histplot(data_scaled_df, kde=True)\n",
        "plt.title('Histogram of Scaled Data')\n",
        "plt.xlabel('Values')\n",
        "plt.ylabel('Frequency')\n",
        "plt.show()\n",
        "\n",
        "# 상자 그림 그리기\n",
        "plt.figure(figsize=(10, 6))\n",
        "sns.boxplot(data=data_scaled_df)\n",
        "plt.title('Boxplot of Scaled Data')\n",
        "plt.xlabel('Features')\n",
        "plt.ylabel('Scaled Values')\n",
        "plt.xticks(rotation=90)  # x축 레이블 회전\n",
        "plt.show()\n"
      ],
      "metadata": {
        "colab": {
          "base_uri": "https://localhost:8080/",
          "height": 522
        },
        "id": "NDJ_uInwextN",
        "outputId": "f8ac118c-dc89-42f2-a2a0-85dbb6e7895f"
      },
      "execution_count": 6,
      "outputs": [
        {
          "output_type": "display_data",
          "data": {
            "text/plain": [
              "<Figure size 1000x600 with 1 Axes>"
            ],
            "image/png": "[encoded data removed]"
          },
          "metadata": {}
        }
      ]
    }
  ]
}