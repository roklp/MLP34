{
  "nbformat": 4,
  "nbformat_minor": 0,
  "metadata": {
    "colab": {
      "provenance": [],
      "authorship_tag": "ABX9TyO98deNrMAdQW8Fh9dcE+fM",
      "include_colab_link": true
    },
    "kernelspec": {
      "name": "python3",
      "display_name": "Python 3"
    },
    "language_info": {
      "name": "python"
    }
  },
  "cells": [
    {
      "cell_type": "markdown",
      "metadata": {
        "id": "view-in-github",
        "colab_type": "text"
      },
      "source": [
        "<a href=\"https://colab.research.google.com/github/roklp/MLP34/blob/main/231229.ipynb\" target=\"_parent\"><img src=\"https://colab.research.google.com/assets/colab-badge.svg\" alt=\"Open In Colab\"/></a>"
      ]
    },
    {
      "cell_type": "markdown",
      "source": [
        "# 딕셔너리\n",
        "-  Dictionary : 영어 및 국어사전\n",
        "-  구성 : key-value, keyword(=key), 결괏값(=value)\n",
        " + 문자열, 리스트, tuple : 데이터 조회 시, 인덱싱 또는 슬라이싱\n",
        " + 딕셔너리에서 값을 조회하는 방법은 key 값을 통해서 값을 조회"
      ],
      "metadata": {
        "id": "Ixm7kIm07kEw"
      }
    },
    {
      "cell_type": "code",
      "source": [
        "country_capital = {\n",
        "    \"대한민국\": \"서울\",\n",
        "    \"프랑스\": \"파리\",\n",
        "    \"미국\": \"워싱턴\",\n",
        "    \"창원\": \"NC\"\n",
        "}\n",
        "\n",
        "country_capital  # key 값은 중복으로 만들 수 없음\n"
      ],
      "metadata": {
        "colab": {
          "base_uri": "https://localhost:8080/"
        },
        "id": "bo-18RKg8wcu",
        "outputId": "59fa76cc-f328-414f-b24e-dc264552a028"
      },
      "execution_count": 24,
      "outputs": [
        {
          "output_type": "execute_result",
          "data": {
            "text/plain": [
              "{'대한민국': '서울', '프랑스': '파리', '미국': '워싱턴', '창원': 'NC'}"
            ]
          },
          "metadata": {},
          "execution_count": 24
        }
      ]
    },
    {
      "cell_type": "code",
      "source": [
        "country_capital['창원'] # key값을 통해 조회가능"
      ],
      "metadata": {
        "colab": {
          "base_uri": "https://localhost:8080/",
          "height": 35
        },
        "id": "M6G2QxJS9-nY",
        "outputId": "4f96f3a0-98e6-49cf-aa5f-38635a7ac35d"
      },
      "execution_count": 5,
      "outputs": [
        {
          "output_type": "execute_result",
          "data": {
            "text/plain": [
              "'NC'"
            ],
            "application/vnd.google.colaboratory.intrinsic+json": {
              "type": "string"
            }
          },
          "metadata": {},
          "execution_count": 5
        }
      ]
    },
    {
      "cell_type": "code",
      "source": [
        "data = {1:'버스', 3:'비행기'}\n",
        "data\n",
        "\n",
        "# 숫자 1은, 리스트, 문자열, tuple 인덱스 번호와는 다른 숫자\n",
        "#현재 여기에서의 숫자 1은 key값임\n",
        "data[1]"
      ],
      "metadata": {
        "colab": {
          "base_uri": "https://localhost:8080/",
          "height": 35
        },
        "id": "AZTRlt1u-Ct1",
        "outputId": "9dd6f850-8928-4d0d-f0eb-95696db2c4bc"
      },
      "execution_count": 7,
      "outputs": [
        {
          "output_type": "execute_result",
          "data": {
            "text/plain": [
              "'버스'"
            ],
            "application/vnd.google.colaboratory.intrinsic+json": {
              "type": "string"
            }
          },
          "metadata": {},
          "execution_count": 7
        }
      ]
    },
    {
      "cell_type": "code",
      "source": [
        "data2 = {'list1' : [1, 2, 3,], 'list2': [4, 5, 6]}\n",
        "data2"
      ],
      "metadata": {
        "colab": {
          "base_uri": "https://localhost:8080/"
        },
        "id": "06MXHp1J-zXF",
        "outputId": "a9356ccd-868a-4bd1-b9dd-a35c2d277ef6"
      },
      "execution_count": 8,
      "outputs": [
        {
          "output_type": "execute_result",
          "data": {
            "text/plain": [
              "{'list1': [1, 2, 3], 'list2': [4, 5, 6]}"
            ]
          },
          "metadata": {},
          "execution_count": 8
        }
      ]
    },
    {
      "cell_type": "code",
      "source": [
        "data3 = {'list1' : [1, 2, 3], 'list2' : [4, 5, 6], 1:'테스트', 2 : 100}\n",
        "data3"
      ],
      "metadata": {
        "colab": {
          "base_uri": "https://localhost:8080/"
        },
        "id": "xCJNfU4G_O1Z",
        "outputId": "d22ff67d-c533-4c9c-f38e-87d503113080"
      },
      "execution_count": 9,
      "outputs": [
        {
          "output_type": "execute_result",
          "data": {
            "text/plain": [
              "{'list1': [1, 2, 3], 'list2': [4, 5, 6], 1: '테스트', 2: 100}"
            ]
          },
          "metadata": {},
          "execution_count": 9
        }
      ]
    },
    {
      "cell_type": "markdown",
      "source": [
        "## 딕셔너리 사용처\n",
        "- 데이터 분석 : 엑셀 데이블\n",
        " + 데이터 가공\n",
        "\n",
        " - HTML, CSS, 인터넷 자료형 중, JSON 데이터 포맷\n",
        " - JSON 데이터 포맷 ==> 딕셔너리와 동일\n",
        "  + API 데이터 크롤링, 기본 자료형(JSON) ==> 딕셔너리 변환, 변환 후 데이터 가공"
      ],
      "metadata": {
        "id": "NA64K-PA_69S"
      }
    },
    {
      "cell_type": "markdown",
      "source": [
        "## 딕셔너리 다루기\n",
        "- 딕셔너리의 value 값 수정하는 방법"
      ],
      "metadata": {
        "id": "dO7Q9_jkFw-W"
      }
    },
    {
      "cell_type": "code",
      "source": [
        "# 내가 좋아하는 도시 이름으로 바꾸고싶어우어\n",
        "\n",
        "country_capital['대한민국'] = '창원'\n",
        "country_capital\n"
      ],
      "metadata": {
        "colab": {
          "base_uri": "https://localhost:8080/"
        },
        "id": "WGXYdAzQFyiS",
        "outputId": "71b096f4-ad59-43e8-ddf8-fbd6c5fbc371"
      },
      "execution_count": 11,
      "outputs": [
        {
          "output_type": "execute_result",
          "data": {
            "text/plain": [
              "{'대한민국': '창원', '프랑스': '파리', '미국': '워싱턴', '창원': 'NC'}"
            ]
          },
          "metadata": {},
          "execution_count": 11
        }
      ]
    },
    {
      "cell_type": "code",
      "source": [
        "# del (삭제하는방법)\n",
        "\n",
        "del country_capital['미국']\n",
        "\n",
        "country_capital"
      ],
      "metadata": {
        "colab": {
          "base_uri": "https://localhost:8080/"
        },
        "id": "UfGRIQ3BF_g8",
        "outputId": "9588cddb-f5c0-4118-bf86-ca7c80f91643"
      },
      "execution_count": 13,
      "outputs": [
        {
          "output_type": "execute_result",
          "data": {
            "text/plain": [
              "{'대한민국': '창원', '프랑스': '파리', '창원': 'NC'}"
            ]
          },
          "metadata": {},
          "execution_count": 13
        }
      ]
    },
    {
      "cell_type": "code",
      "source": [
        "country_capital['일본'] = '도쿄'\n",
        "country_capital"
      ],
      "metadata": {
        "colab": {
          "base_uri": "https://localhost:8080/"
        },
        "id": "TJ0UO4ejGRvl",
        "outputId": "7576762b-3dbe-4b22-fd03-59dc78ece36e"
      },
      "execution_count": 14,
      "outputs": [
        {
          "output_type": "execute_result",
          "data": {
            "text/plain": [
              "{'대한민국': '창원', '프랑스': '파리', '창원': 'NC', '일본': '도쿄'}"
            ]
          },
          "metadata": {},
          "execution_count": 14
        }
      ]
    },
    {
      "cell_type": "markdown",
      "source": [
        "## 딕셔너리 메서드"
      ],
      "metadata": {
        "id": "U58eEQGuHQ6j"
      }
    },
    {
      "cell_type": "code",
      "source": [
        "print(type(country_capital)) # 딕셔너리 객체\n",
        "# 딕셔너리가 보유한 클래스 메서드를 사용할 수 있음\n",
        "country_capital.keys()"
      ],
      "metadata": {
        "colab": {
          "base_uri": "https://localhost:8080/"
        },
        "id": "OK-8poadHSeF",
        "outputId": "811e1aa9-0f88-409d-a425-d0aa8a30c8ef"
      },
      "execution_count": 16,
      "outputs": [
        {
          "output_type": "stream",
          "name": "stdout",
          "text": [
            "<class 'dict'>\n"
          ]
        },
        {
          "output_type": "execute_result",
          "data": {
            "text/plain": [
              "dict_keys(['대한민국', '프랑스', '창원', '일본'])"
            ]
          },
          "metadata": {},
          "execution_count": 16
        }
      ]
    },
    {
      "cell_type": "code",
      "source": [
        "country_capital.values()"
      ],
      "metadata": {
        "colab": {
          "base_uri": "https://localhost:8080/"
        },
        "id": "7m4rPI0jHdxj",
        "outputId": "c78e5f45-9530-4402-c268-e3b79b29de8e"
      },
      "execution_count": 17,
      "outputs": [
        {
          "output_type": "execute_result",
          "data": {
            "text/plain": [
              "dict_values(['창원', '파리', 'NC', '도쿄'])"
            ]
          },
          "metadata": {},
          "execution_count": 17
        }
      ]
    },
    {
      "cell_type": "code",
      "source": [
        "country_capital.items()"
      ],
      "metadata": {
        "colab": {
          "base_uri": "https://localhost:8080/"
        },
        "id": "UQGCdpGNIPI3",
        "outputId": "ebc53cce-3064-40f4-b050-2c5cdcd7c0ba"
      },
      "execution_count": 18,
      "outputs": [
        {
          "output_type": "execute_result",
          "data": {
            "text/plain": [
              "dict_items([('대한민국', '창원'), ('프랑스', '파리'), ('창원', 'NC'), ('일본', '도쿄')])"
            ]
          },
          "metadata": {},
          "execution_count": 18
        }
      ]
    },
    {
      "cell_type": "code",
      "source": [
        "print(type(country_capital.keys()))"
      ],
      "metadata": {
        "colab": {
          "base_uri": "https://localhost:8080/"
        },
        "id": "XE4sjt4yISIE",
        "outputId": "8438a3a5-7033-49c2-a554-7a87d6599af9"
      },
      "execution_count": 19,
      "outputs": [
        {
          "output_type": "stream",
          "name": "stdout",
          "text": [
            "<class 'dict_keys'>\n"
          ]
        }
      ]
    },
    {
      "cell_type": "code",
      "source": [
        "# 데이터 형변환\n",
        "list(country_capital.keys())"
      ],
      "metadata": {
        "colab": {
          "base_uri": "https://localhost:8080/"
        },
        "id": "FtI-josLIkVe",
        "outputId": "4d7c7a9a-a7ba-4771-ae9d-cce50c0fb8b8"
      },
      "execution_count": 20,
      "outputs": [
        {
          "output_type": "execute_result",
          "data": {
            "text/plain": [
              "['대한민국', '프랑스', '창원', '일본']"
            ]
          },
          "metadata": {},
          "execution_count": 20
        }
      ]
    },
    {
      "cell_type": "code",
      "source": [
        "new_df = {\n",
        "    '인천' : 'SK' , '린천' : 'SSG', '브랜드' : '이재원'\n",
        "}\n",
        "country_capital.update(new_df)\n",
        "country_capital"
      ],
      "metadata": {
        "colab": {
          "base_uri": "https://localhost:8080/"
        },
        "id": "ezQ_fd6oI0pP",
        "outputId": "798e9315-37d1-4a3d-934e-5ca941a990dd"
      },
      "execution_count": 22,
      "outputs": [
        {
          "output_type": "execute_result",
          "data": {
            "text/plain": [
              "{'대한민국': '창원',\n",
              " '프랑스': '파리',\n",
              " '창원': 'NC',\n",
              " '일본': '도쿄',\n",
              " '인천': 'SK',\n",
              " '브랜드': '이재원',\n",
              " '린천': 'SSG'}"
            ]
          },
          "metadata": {},
          "execution_count": 22
        }
      ]
    },
    {
      "cell_type": "code",
      "source": [
        "country_capital.clear() # 빈 Dictionary  생성\n",
        "country_capital"
      ],
      "metadata": {
        "colab": {
          "base_uri": "https://localhost:8080/"
        },
        "id": "KLuD1veGJaNa",
        "outputId": "48c0a6be-bd79-4d65-be4f-8824c4b429f2"
      },
      "execution_count": 23,
      "outputs": [
        {
          "output_type": "execute_result",
          "data": {
            "text/plain": [
              "{}"
            ]
          },
          "metadata": {},
          "execution_count": 23
        }
      ]
    },
    {
      "cell_type": "code",
      "source": [
        "country_capital = {\n",
        "    \"대한민국\": \"서울\",\n",
        "    \"프랑스\": \"파리\",\n",
        "    \"미국\": \"워싱턴\",\n",
        "    \"창원\": \"NC\"\n",
        "}\n",
        "\n",
        "print(type(country_capital)) # 딕셔너리 객체\n",
        "# 딕셔너리가 보유한 클래스 매서드를 사용할 수 있음\n",
        "result = country_capital.keys()\n",
        "result.append('창원')"
      ],
      "metadata": {
        "colab": {
          "base_uri": "https://localhost:8080/",
          "height": 239
        },
        "id": "dGekWJ5dJkX8",
        "outputId": "a351ee2f-fdd1-48fc-df95-1f8a7165768c"
      },
      "execution_count": 25,
      "outputs": [
        {
          "output_type": "stream",
          "name": "stdout",
          "text": [
            "<class 'dict'>\n"
          ]
        },
        {
          "output_type": "error",
          "ename": "AttributeError",
          "evalue": "ignored",
          "traceback": [
            "\u001b[0;31m---------------------------------------------------------------------------\u001b[0m",
            "\u001b[0;31mAttributeError\u001b[0m                            Traceback (most recent call last)",
            "\u001b[0;32m<ipython-input-25-e5504cbff914>\u001b[0m in \u001b[0;36m<cell line: 11>\u001b[0;34m()\u001b[0m\n\u001b[1;32m      9\u001b[0m \u001b[0;31m# 딕셔너리가 보유한 클래스 매서드를 사용할 수 있음\u001b[0m\u001b[0;34m\u001b[0m\u001b[0;34m\u001b[0m\u001b[0m\n\u001b[1;32m     10\u001b[0m \u001b[0mresult\u001b[0m \u001b[0;34m=\u001b[0m \u001b[0mcountry_capital\u001b[0m\u001b[0;34m.\u001b[0m\u001b[0mkeys\u001b[0m\u001b[0;34m(\u001b[0m\u001b[0;34m)\u001b[0m\u001b[0;34m\u001b[0m\u001b[0;34m\u001b[0m\u001b[0m\n\u001b[0;32m---> 11\u001b[0;31m \u001b[0mresult\u001b[0m\u001b[0;34m.\u001b[0m\u001b[0mappend\u001b[0m\u001b[0;34m(\u001b[0m\u001b[0;34m'창원'\u001b[0m\u001b[0;34m)\u001b[0m\u001b[0;34m\u001b[0m\u001b[0;34m\u001b[0m\u001b[0m\n\u001b[0m",
            "\u001b[0;31mAttributeError\u001b[0m: 'dict_keys' object has no attribute 'append'"
          ]
        }
      ]
    },
    {
      "cell_type": "code",
      "source": [
        "result = list(country_capital.keys())\n",
        "result.append('창원')"
      ],
      "metadata": {
        "id": "FHRBdTn9Kmbv"
      },
      "execution_count": 26,
      "outputs": []
    },
    {
      "cell_type": "markdown",
      "source": [
        "# if 조건문\n",
        "- 만약 A라면 ~일 것이다\n",
        "- 프로그래밍에서\n",
        " + 만약 조건이 True라면 ~를 해라\n",
        " + 참과 거짓을 만드는게 중요\n"
      ],
      "metadata": {
        "id": "csw1wUrBLzVo"
      }
    },
    {
      "cell_type": "code",
      "source": [
        "x = int(input(\"점수를 입력하세요\"))  # 문자를 숫자로 형변환\n",
        "if x >= 90:  # << 이거 설계 잘해야함\n",
        "    print(\"합격\")\n",
        "\n",
        "elif x >=80:\n",
        "  print(\"부분합격, 면접 필요\")\n",
        "\n",
        "else :\n",
        "  print(\"불합격\")\n"
      ],
      "metadata": {
        "colab": {
          "base_uri": "https://localhost:8080/"
        },
        "id": "3FQTCV4oM33D",
        "outputId": "5600c2f7-e9e8-4db1-8965-07492551e764"
      },
      "execution_count": 30,
      "outputs": [
        {
          "output_type": "stream",
          "name": "stdout",
          "text": [
            "점수를 입력하세요85\n",
            "부분합격, 면접 필요\n"
          ]
        }
      ]
    },
    {
      "cell_type": "markdown",
      "source": [
        " - 조건문을 문장으로 먼저 만드는 훈련을 하는게 중요"
      ],
      "metadata": {
        "id": "5XHbO4tINxe0"
      }
    },
    {
      "cell_type": "code",
      "source": [
        "x = int(input(\"점수\"))\n",
        "\n",
        "if x >=90:\n",
        "  print(\"A\")\n",
        "\n",
        "elif x >=80:\n",
        "  print(\"B\")\n",
        "\n",
        "elif x >=70:\n",
        "  print(\"C\")\n",
        "\n",
        "elif x >=60:\n",
        "  print(\"D\")\n",
        "\n",
        "else:\n",
        "  print(\"F\")\n",
        "\n"
      ],
      "metadata": {
        "colab": {
          "base_uri": "https://localhost:8080/"
        },
        "id": "KrLHJ3-PO3-d",
        "outputId": "d107b976-6017-4181-d07f-799f256520c1"
      },
      "execution_count": 32,
      "outputs": [
        {
          "output_type": "stream",
          "name": "stdout",
          "text": [
            "점수50\n",
            "F\n"
          ]
        }
      ]
    },
    {
      "cell_type": "code",
      "source": [
        "# 중첩 조건문\n",
        "# if 조건문 내부에 또다른 조건문 생성\n",
        "x = int(input(\"점수를 입력하세요...\"))  # 문자를 숫자로 형변환\n",
        "\n",
        "if x >= 90:\n",
        "    print(\"합격\")\n",
        "\n",
        "    if x == 100:\n",
        "        print(\"장학금\")\n",
        "    else:\n",
        "        print(\"합격\")\n",
        "else:\n",
        "    print(\"불합격\")\n"
      ],
      "metadata": {
        "colab": {
          "base_uri": "https://localhost:8080/"
        },
        "id": "ZRp5UQVuXBe4",
        "outputId": "e37a53c7-4f32-46a6-cc84-f3b502872afa"
      },
      "execution_count": 34,
      "outputs": [
        {
          "output_type": "stream",
          "name": "stdout",
          "text": [
            "점수를 입력하세요...100\n",
            "합격\n",
            "장학금\n"
          ]
        }
      ]
    },
    {
      "cell_type": "markdown",
      "source": [
        "## 반복문\n",
        " - for-loop,while\n",
        " - 반복문의 필요성"
      ],
      "metadata": {
        "id": "n2GQLxjBYMOW"
      }
    },
    {
      "cell_type": "code",
      "source": [
        "# NC 10번 출력\n",
        "print(\"NC\")\n",
        "print(\"NC\")\n",
        "print(\"NC\")\n",
        "print(\"NC\")\n",
        "print(\"NC\")\n",
        "print(\"NC\")\n",
        "print(\"NC\")\n",
        "print(\"NC\")\n",
        "print(\"NC\")\n",
        "print(\"NC\") #개초보\n",
        "\n",
        "for i in range(15):\n",
        "  print(\"NC\")"
      ],
      "metadata": {
        "colab": {
          "base_uri": "https://localhost:8080/"
        },
        "id": "L2wtKKwGYSIV",
        "outputId": "9370e555-64f6-4315-cab1-3932ce00aac7"
      },
      "execution_count": 37,
      "outputs": [
        {
          "output_type": "stream",
          "name": "stdout",
          "text": [
            "NC\n",
            "NC\n",
            "NC\n",
            "NC\n",
            "NC\n",
            "NC\n",
            "NC\n",
            "NC\n",
            "NC\n",
            "NC\n",
            "NC\n",
            "NC\n",
            "NC\n",
            "NC\n",
            "NC\n",
            "NC\n",
            "NC\n",
            "NC\n",
            "NC\n",
            "NC\n",
            "NC\n",
            "NC\n",
            "NC\n",
            "NC\n",
            "NC\n"
          ]
        }
      ]
    },
    {
      "cell_type": "code",
      "source": [
        "for i in range(20): # 반복범위임 20번 돌고나면 끝 더이상 안돔 ㅇㅇ\n",
        "  print(f'{i}번째 NC')"
      ],
      "metadata": {
        "colab": {
          "base_uri": "https://localhost:8080/"
        },
        "id": "_nykXkFzamXE",
        "outputId": "86069168-51b3-405e-867d-6cf39fc4b302"
      },
      "execution_count": 39,
      "outputs": [
        {
          "output_type": "stream",
          "name": "stdout",
          "text": [
            "0번째 NC\n",
            "1번째 NC\n",
            "2번째 NC\n",
            "3번째 NC\n",
            "4번째 NC\n",
            "5번째 NC\n",
            "6번째 NC\n",
            "7번째 NC\n",
            "8번째 NC\n",
            "9번째 NC\n",
            "10번째 NC\n",
            "11번째 NC\n",
            "12번째 NC\n",
            "13번째 NC\n",
            "14번째 NC\n",
            "15번째 NC\n",
            "16번째 NC\n",
            "17번째 NC\n",
            "18번째 NC\n",
            "19번째 NC\n"
          ]
        }
      ]
    },
    {
      "cell_type": "markdown",
      "source": [
        "## for - loop 특징\n",
        "- 반복 범위가 주어짐\n",
        "- 반복 범위 지정 시, 시퀀스 자료형으로도 사용 가능함\n",
        " + 시퀀스 자료형 대표적으로 리스트 문자열"
      ],
      "metadata": {
        "id": "EibQLrs4aiq7"
      }
    },
    {
      "cell_type": "code",
      "source": [
        "nums = [1, 2, 3, 4, 5]\n",
        "for num in nums:\n",
        "  print(num)"
      ],
      "metadata": {
        "colab": {
          "base_uri": "https://localhost:8080/"
        },
        "id": "QfGANYlgb2xQ",
        "outputId": "ee06c1d1-8a6a-4d83-8f74-5bd1ac658304"
      },
      "execution_count": 40,
      "outputs": [
        {
          "output_type": "stream",
          "name": "stdout",
          "text": [
            "1\n",
            "2\n",
            "3\n",
            "4\n",
            "5\n"
          ]
        }
      ]
    },
    {
      "cell_type": "code",
      "source": [
        "strings = \"Dions\"\n",
        "for text in strings:\n",
        "  print(text)"
      ],
      "metadata": {
        "colab": {
          "base_uri": "https://localhost:8080/"
        },
        "id": "YemvTa5hb-v9",
        "outputId": "a57909a1-c320-47fd-ec3c-8259c8ca9825"
      },
      "execution_count": 41,
      "outputs": [
        {
          "output_type": "stream",
          "name": "stdout",
          "text": [
            "D\n",
            "i\n",
            "o\n",
            "n\n",
            "s\n"
          ]
        }
      ]
    },
    {
      "cell_type": "code",
      "source": [
        "tuples = (1, 2, 3, 4)\n",
        "for num in tuples:\n",
        "  print(num)"
      ],
      "metadata": {
        "colab": {
          "base_uri": "https://localhost:8080/"
        },
        "id": "HTjuWvXEcbCO",
        "outputId": "da3511c6-7ae2-4248-9ca6-b528dbdcd406"
      },
      "execution_count": 42,
      "outputs": [
        {
          "output_type": "stream",
          "name": "stdout",
          "text": [
            "1\n",
            "2\n",
            "3\n",
            "4\n"
          ]
        }
      ]
    },
    {
      "cell_type": "code",
      "source": [
        "country_capital\n",
        "\n",
        "for country in country_capital:\n",
        "  print(country) # key값만 출력됨\n",
        "  print(country_capital[country])"
      ],
      "metadata": {
        "colab": {
          "base_uri": "https://localhost:8080/"
        },
        "id": "-RynTaLNck-n",
        "outputId": "f7af023c-db07-4a6b-eaff-0554d9702133"
      },
      "execution_count": 49,
      "outputs": [
        {
          "output_type": "stream",
          "name": "stdout",
          "text": [
            "대한민국\n",
            "서울\n",
            "프랑스\n",
            "파리\n",
            "미국\n",
            "워싱턴\n",
            "창원\n",
            "NC\n"
          ]
        }
      ]
    },
    {
      "cell_type": "code",
      "source": [
        "x = '대한민국'\n",
        "country_capital[x]"
      ],
      "metadata": {
        "colab": {
          "base_uri": "https://localhost:8080/",
          "height": 35
        },
        "id": "IHBLrdnyc3FM",
        "outputId": "14d7d1ce-6136-4593-fd96-242a8b31c9d1"
      },
      "execution_count": 50,
      "outputs": [
        {
          "output_type": "execute_result",
          "data": {
            "text/plain": [
              "'서울'"
            ],
            "application/vnd.google.colaboratory.intrinsic+json": {
              "type": "string"
            }
          },
          "metadata": {},
          "execution_count": 50
        }
      ]
    },
    {
      "cell_type": "code",
      "source": [
        "x = '프랑스'\n",
        "#print(f'{x}의 수도는 서울이다')\n",
        "print(f'{x}의 수도는 {country_capital[x]}이다')"
      ],
      "metadata": {
        "colab": {
          "base_uri": "https://localhost:8080/"
        },
        "id": "_s5ryoyrys-3",
        "outputId": "d9ee3004-dab5-4cd0-e987-49cabbe146e7"
      },
      "execution_count": 53,
      "outputs": [
        {
          "output_type": "stream",
          "name": "stdout",
          "text": [
            "프랑스의 수도는 파리이다\n"
          ]
        }
      ]
    },
    {
      "cell_type": "code",
      "source": [
        "# 중첩 포문\n",
        "# 반복문 내 또 다른 반복문\n",
        "\n",
        "x_list = ['x1', 'x2']\n",
        "y_list = ['y1', 'y2']\n",
        "\n",
        "#print ('x1 y1')\n",
        "#print ('x1 y2')\n",
        "#print ('x2 y1')\n",
        "#print ('x2 y2')\n",
        "\n",
        "for x in x_list:\n",
        "  #print(x)\n",
        "  for y in y_list:\n",
        "    print(x,y)"
      ],
      "metadata": {
        "colab": {
          "base_uri": "https://localhost:8080/"
        },
        "id": "3omZ3XFuzU7X",
        "outputId": "57d3cefe-6b10-425e-e3df-d5bf049ccca0"
      },
      "execution_count": 55,
      "outputs": [
        {
          "output_type": "stream",
          "name": "stdout",
          "text": [
            "x1 y1\n",
            "x1 y2\n",
            "x2 y1\n",
            "x2 y2\n"
          ]
        }
      ]
    },
    {
      "cell_type": "code",
      "source": [
        "x = 2\n",
        "y = 1\n",
        "f'{x} * {y} = {x * y}'"
      ],
      "metadata": {
        "colab": {
          "base_uri": "https://localhost:8080/",
          "height": 35
        },
        "id": "CBnao-OR0O2B",
        "outputId": "84fc1d15-b4ed-4d10-cf18-d295597de738"
      },
      "execution_count": 56,
      "outputs": [
        {
          "output_type": "execute_result",
          "data": {
            "text/plain": [
              "'2 * 1 = 2'"
            ],
            "application/vnd.google.colaboratory.intrinsic+json": {
              "type": "string"
            }
          },
          "metadata": {},
          "execution_count": 56
        }
      ]
    },
    {
      "cell_type": "code",
      "source": [
        "for y in range(1, 10):\n",
        "    x = 2\n",
        "    result = f'{x} * {y} = {x * y}'\n",
        "    print(result)\n"
      ],
      "metadata": {
        "colab": {
          "base_uri": "https://localhost:8080/"
        },
        "id": "4ArwKnyt08gJ",
        "outputId": "1eebc869-2e73-47c9-ac28-b9b6a2af1092"
      },
      "execution_count": 58,
      "outputs": [
        {
          "output_type": "stream",
          "name": "stdout",
          "text": [
            "2 * 1 = 2\n",
            "2 * 2 = 4\n",
            "2 * 3 = 6\n",
            "2 * 4 = 8\n",
            "2 * 5 = 10\n",
            "2 * 6 = 12\n",
            "2 * 7 = 14\n",
            "2 * 8 = 16\n",
            "2 * 9 = 18\n"
          ]
        }
      ]
    },
    {
      "cell_type": "code",
      "source": [
        "x_list = [2, 3, 4, 5, 6, 7, 8, 9]\n",
        "y_list = [2, 3, 4, 5, 6, 7, 8, 9]\n",
        "\n",
        "y = 2\n",
        "\n",
        "for x in x_list:\n",
        "  for y in y_list:\n",
        "    print(f'{x} * {y} = {x * y}')\n",
        "\n",
        "\n",
        "    for x in range(1, 10):\n",
        "  for y in range(1, 10):\n",
        "    print(f'{x} * {y} = {x * y}')\n",
        "  print(\"---\")\n"
      ],
      "metadata": {
        "id": "hT2ZHp6f43Fh"
      },
      "execution_count": null,
      "outputs": []
    },
    {
      "cell_type": "code",
      "source": [
        "names = [\"권\", \"희\", \"동\"]\n",
        "ages = [10, 20 , 30]\n",
        "\n",
        "for name, age in zip(names, ages):\n",
        "  print(name, age)"
      ],
      "metadata": {
        "colab": {
          "base_uri": "https://localhost:8080/"
        },
        "id": "e47ZtpD-471D",
        "outputId": "942354b3-a7ef-4238-d920-da9fe4b89325"
      },
      "execution_count": 59,
      "outputs": [
        {
          "output_type": "stream",
          "name": "stdout",
          "text": [
            "권 10\n",
            "희 20\n",
            "동 30\n"
          ]
        }
      ]
    },
    {
      "cell_type": "code",
      "source": [
        "names = [\"A\", \"B\", \"C\"]\n",
        "for idx, name in enumerate(names):\n",
        "  print(idx, name)"
      ],
      "metadata": {
        "colab": {
          "base_uri": "https://localhost:8080/"
        },
        "id": "x7ZK_Mv25K9I",
        "outputId": "68fbd618-e29b-403e-da72-3ffd44886050"
      },
      "execution_count": 60,
      "outputs": [
        {
          "output_type": "stream",
          "name": "stdout",
          "text": [
            "0 A\n",
            "1 B\n",
            "2 C\n"
          ]
        }
      ]
    },
    {
      "cell_type": "code",
      "source": [],
      "metadata": {
        "id": "PqnH5ZH35ZQb"
      },
      "execution_count": null,
      "outputs": []
    },
    {
      "cell_type": "markdown",
      "source": [
        "## while 특징\n",
        "- for-loop 특징 : 항상 반복문의 범위를 지정함\n",
        " + 몇번 반복문을 수행할지 숫자로 컨드롤 가능\n",
        "\n",
        " - while 특징\n",
        "  + False 뜰때까지 반복함\n",
        "\n"
      ],
      "metadata": {
        "id": "9xw25Xlh8WBE"
      }
    },
    {
      "cell_type": "code",
      "source": [
        "# 초깃값 지정\n",
        "\n",
        "i = 1\n",
        "n = 3\n",
        "\n",
        "while i <= n: # 특정 조건문을 false가 되도록 코드를 작성하는게 핵심임\n",
        "  print(f'현재 {i}번')\n",
        "  i = i + 1"
      ],
      "metadata": {
        "colab": {
          "base_uri": "https://localhost:8080/"
        },
        "id": "Qxu3Ac-19Lh3",
        "outputId": "f86e59a5-7b21-4951-eadb-fe328cd15495"
      },
      "execution_count": 61,
      "outputs": [
        {
          "output_type": "stream",
          "name": "stdout",
          "text": [
            "현재 1번\n",
            "현재 2번\n",
            "현재 3번\n"
          ]
        }
      ]
    },
    {
      "cell_type": "code",
      "source": [],
      "metadata": {
        "id": "zHcnN7HR9UQa"
      },
      "execution_count": null,
      "outputs": []
    },
    {
      "cell_type": "markdown",
      "source": [
        "## break 문\n",
        "- 중간에 반복문 강제 종료\n",
        " + 특정 시점에 반복문 강제"
      ],
      "metadata": {
        "id": "LIfA1LFmCF1V"
      }
    },
    {
      "cell_type": "code",
      "source": [
        "i = 1\n",
        "n = 3\n",
        "\n",
        "while True:\n",
        "    print(f'현재 {i}번')\n",
        "\n",
        "    if i >= 5:\n",
        "        break\n",
        "\n",
        "    i = i + 1\n"
      ],
      "metadata": {
        "colab": {
          "base_uri": "https://localhost:8080/"
        },
        "id": "kTEbg11eCOTf",
        "outputId": "ee4d975a-1494-4f0c-9860-64031f19101b"
      },
      "execution_count": 66,
      "outputs": [
        {
          "output_type": "stream",
          "name": "stdout",
          "text": [
            "현재 1번\n",
            "현재 2번\n",
            "현재 3번\n",
            "현재 4번\n",
            "현재 5번\n"
          ]
        }
      ]
    },
    {
      "cell_type": "code",
      "source": [
        "for i in range(10):\n",
        "  print(f'현재 {i}번')\n",
        "  if i > 5:\n",
        "    break"
      ],
      "metadata": {
        "colab": {
          "base_uri": "https://localhost:8080/"
        },
        "id": "HWi9M02hCe9c",
        "outputId": "892801cb-0301-4777-9db0-a4693deac8e3"
      },
      "execution_count": 67,
      "outputs": [
        {
          "output_type": "stream",
          "name": "stdout",
          "text": [
            "현재 0번\n",
            "현재 1번\n",
            "현재 2번\n",
            "현재 3번\n",
            "현재 4번\n",
            "현재 5번\n",
            "현재 6번\n"
          ]
        }
      ]
    },
    {
      "cell_type": "code",
      "source": [],
      "metadata": {
        "id": "hXsUA4I1C7_q"
      },
      "execution_count": null,
      "outputs": []
    },
    {
      "cell_type": "markdown",
      "source": [
        "## 문자열과 for-loop\n"
      ],
      "metadata": {
        "id": "MIZUAFA1D0Uh"
      }
    },
    {
      "cell_type": "code",
      "source": [
        "texts = \"Python\"\n",
        "for text in texts :\n",
        "  print(text)\n",
        "  # text가 t가 되면 break\n",
        "  if text == 't' :\n",
        "    print(\"text는 t입니다.\")\n",
        "    break"
      ],
      "metadata": {
        "colab": {
          "base_uri": "https://localhost:8080/"
        },
        "id": "EvF3vXjQD3IU",
        "outputId": "1a172b34-03cf-46ce-ea02-dfb3aac3c6db"
      },
      "execution_count": 68,
      "outputs": [
        {
          "output_type": "stream",
          "name": "stdout",
          "text": [
            "P\n",
            "y\n",
            "t\n",
            "text는 t입니다.\n"
          ]
        }
      ]
    },
    {
      "cell_type": "code",
      "source": [],
      "metadata": {
        "id": "w9ddoz0jENZu"
      },
      "execution_count": null,
      "outputs": []
    },
    {
      "cell_type": "markdown",
      "source": [
        "## 리스트 컴프리헨션\n",
        "- for loop 및 for loop if 조건문 한줄로 처리"
      ],
      "metadata": {
        "id": "DDWQuI_cEpGf"
      }
    },
    {
      "cell_type": "code",
      "source": [
        "# pythonic 코드\n",
        "numbers = [1, 2, 3, 4, 5]\n",
        "\n",
        "result = [1, 4, 9, 16, 25] # 거듭제곱"
      ],
      "metadata": {
        "id": "OS17w24gExHK"
      },
      "execution_count": null,
      "outputs": []
    },
    {
      "cell_type": "code",
      "source": [
        "numbers = [1, 2, 3, 4, 5]\n",
        "result = []\n",
        "\n",
        "temp1 = numbers[0] ** 2\n",
        "temp2 = numbers[1] ** 2\n",
        "temp3 = numbers[2] ** 2\n",
        "\n",
        "result.append(temp1)\n",
        "result.append(temp2)\n",
        "result.append(temp3)\n",
        "\n",
        "print(result)"
      ],
      "metadata": {
        "colab": {
          "base_uri": "https://localhost:8080/"
        },
        "id": "FX3zCY9qFJ03",
        "outputId": "1e2e3c67-95f7-4fe1-80a3-2ede3ecb4879"
      },
      "execution_count": 76,
      "outputs": [
        {
          "output_type": "stream",
          "name": "stdout",
          "text": [
            "[1, 4, 9]\n"
          ]
        }
      ]
    },
    {
      "cell_type": "code",
      "source": [],
      "metadata": {
        "id": "5s9Xd0pEF1Dg"
      },
      "execution_count": null,
      "outputs": []
    },
    {
      "cell_type": "code",
      "source": [
        "numbers = [1, 2, 3, 4, 5]\n",
        "result = []\n",
        "\n",
        "for i in numbers:\n",
        "  result.append(i ** 2)\n",
        "\n",
        "  result"
      ],
      "metadata": {
        "id": "XWVLL95TFgOH"
      },
      "execution_count": 74,
      "outputs": []
    },
    {
      "cell_type": "code",
      "source": [
        "numbers = [1, 2, 3, 4, 5]\n",
        "result2 = [i ** 2 for i in numbers]\n",
        "result2"
      ],
      "metadata": {
        "colab": {
          "base_uri": "https://localhost:8080/"
        },
        "id": "6vYseDsjGQNb",
        "outputId": "46fcd9bf-6831-4d5f-a287-b5eeb2ec9c07"
      },
      "execution_count": 73,
      "outputs": [
        {
          "output_type": "execute_result",
          "data": {
            "text/plain": [
              "[1, 4, 9, 16, 25]"
            ]
          },
          "metadata": {},
          "execution_count": 73
        }
      ]
    },
    {
      "cell_type": "code",
      "source": [],
      "metadata": {
        "id": "4_Z8BY8kGb3u"
      },
      "execution_count": null,
      "outputs": []
    },
    {
      "cell_type": "markdown",
      "source": [
        "- 조건문 추가"
      ],
      "metadata": {
        "id": "g9SefJTsKxDu"
      }
    },
    {
      "cell_type": "code",
      "source": [
        "numbers = [1, 2, 3, 4, 5]\n",
        "result = []\n",
        "\n",
        "for i in numbers:\n",
        "    if i >= 3:\n",
        "        result.append(i ** 2)\n",
        "\n",
        "print(result)\n"
      ],
      "metadata": {
        "colab": {
          "base_uri": "https://localhost:8080/"
        },
        "id": "MoZFOaCNKyxk",
        "outputId": "8879e9f9-960e-4f24-b144-5e74556eaad2"
      },
      "execution_count": 78,
      "outputs": [
        {
          "output_type": "stream",
          "name": "stdout",
          "text": [
            "[9, 16, 25]\n"
          ]
        }
      ]
    },
    {
      "cell_type": "code",
      "source": [
        "numbers = [1, 2, 3, 4, 5]\n",
        "result2 = [ i ** 2 for i in numbers if i >= 3]\n",
        "result2"
      ],
      "metadata": {
        "colab": {
          "base_uri": "https://localhost:8080/"
        },
        "id": "OF7dXDf8LEfL",
        "outputId": "accde05f-43a2-4ced-ed12-c3eed6820062"
      },
      "execution_count": 79,
      "outputs": [
        {
          "output_type": "execute_result",
          "data": {
            "text/plain": [
              "[9, 16, 25]"
            ]
          },
          "metadata": {},
          "execution_count": 79
        }
      ]
    },
    {
      "cell_type": "code",
      "source": [],
      "metadata": {
        "id": "j302PO3SLVKk"
      },
      "execution_count": null,
      "outputs": []
    },
    {
      "cell_type": "markdown",
      "source": [
        "# 파이썬 문서화 (Docstring)\n",
        "-"
      ],
      "metadata": {
        "id": "Ch3FE0s1M_wv"
      }
    },
    {
      "cell_type": "code",
      "source": [
        "help(print)"
      ],
      "metadata": {
        "colab": {
          "base_uri": "https://localhost:8080/"
        },
        "id": "ud9S8axBQ0w8",
        "outputId": "5e5f62c3-5765-4a21-ce95-7314cb5287c4"
      },
      "execution_count": 80,
      "outputs": [
        {
          "output_type": "stream",
          "name": "stdout",
          "text": [
            "Help on built-in function print in module builtins:\n",
            "\n",
            "print(...)\n",
            "    print(value, ..., sep=' ', end='\\n', file=sys.stdout, flush=False)\n",
            "    \n",
            "    Prints the values to a stream, or to sys.stdout by default.\n",
            "    Optional keyword arguments:\n",
            "    file:  a file-like object (stream); defaults to the current sys.stdout.\n",
            "    sep:   string inserted between values, default a space.\n",
            "    end:   string appended after the last value, default a newline.\n",
            "    flush: whether to forcibly flush the stream.\n",
            "\n"
          ]
        }
      ]
    },
    {
      "cell_type": "code",
      "source": [
        "import math\n",
        "help(math)"
      ],
      "metadata": {
        "colab": {
          "base_uri": "https://localhost:8080/"
        },
        "id": "mZ7yc-4hQ28G",
        "outputId": "c7e94a3c-b7e5-4d5d-bed7-1f2074b025e9"
      },
      "execution_count": 81,
      "outputs": [
        {
          "output_type": "stream",
          "name": "stdout",
          "text": [
            "Help on built-in module math:\n",
            "\n",
            "NAME\n",
            "    math\n",
            "\n",
            "DESCRIPTION\n",
            "    This module provides access to the mathematical functions\n",
            "    defined by the C standard.\n",
            "\n",
            "FUNCTIONS\n",
            "    acos(x, /)\n",
            "        Return the arc cosine (measured in radians) of x.\n",
            "        \n",
            "        The result is between 0 and pi.\n",
            "    \n",
            "    acosh(x, /)\n",
            "        Return the inverse hyperbolic cosine of x.\n",
            "    \n",
            "    asin(x, /)\n",
            "        Return the arc sine (measured in radians) of x.\n",
            "        \n",
            "        The result is between -pi/2 and pi/2.\n",
            "    \n",
            "    asinh(x, /)\n",
            "        Return the inverse hyperbolic sine of x.\n",
            "    \n",
            "    atan(x, /)\n",
            "        Return the arc tangent (measured in radians) of x.\n",
            "        \n",
            "        The result is between -pi/2 and pi/2.\n",
            "    \n",
            "    atan2(y, x, /)\n",
            "        Return the arc tangent (measured in radians) of y/x.\n",
            "        \n",
            "        Unlike atan(y/x), the signs of both x and y are considered.\n",
            "    \n",
            "    atanh(x, /)\n",
            "        Return the inverse hyperbolic tangent of x.\n",
            "    \n",
            "    ceil(x, /)\n",
            "        Return the ceiling of x as an Integral.\n",
            "        \n",
            "        This is the smallest integer >= x.\n",
            "    \n",
            "    comb(n, k, /)\n",
            "        Number of ways to choose k items from n items without repetition and without order.\n",
            "        \n",
            "        Evaluates to n! / (k! * (n - k)!) when k <= n and evaluates\n",
            "        to zero when k > n.\n",
            "        \n",
            "        Also called the binomial coefficient because it is equivalent\n",
            "        to the coefficient of k-th term in polynomial expansion of the\n",
            "        expression (1 + x)**n.\n",
            "        \n",
            "        Raises TypeError if either of the arguments are not integers.\n",
            "        Raises ValueError if either of the arguments are negative.\n",
            "    \n",
            "    copysign(x, y, /)\n",
            "        Return a float with the magnitude (absolute value) of x but the sign of y.\n",
            "        \n",
            "        On platforms that support signed zeros, copysign(1.0, -0.0)\n",
            "        returns -1.0.\n",
            "    \n",
            "    cos(x, /)\n",
            "        Return the cosine of x (measured in radians).\n",
            "    \n",
            "    cosh(x, /)\n",
            "        Return the hyperbolic cosine of x.\n",
            "    \n",
            "    degrees(x, /)\n",
            "        Convert angle x from radians to degrees.\n",
            "    \n",
            "    dist(p, q, /)\n",
            "        Return the Euclidean distance between two points p and q.\n",
            "        \n",
            "        The points should be specified as sequences (or iterables) of\n",
            "        coordinates.  Both inputs must have the same dimension.\n",
            "        \n",
            "        Roughly equivalent to:\n",
            "            sqrt(sum((px - qx) ** 2.0 for px, qx in zip(p, q)))\n",
            "    \n",
            "    erf(x, /)\n",
            "        Error function at x.\n",
            "    \n",
            "    erfc(x, /)\n",
            "        Complementary error function at x.\n",
            "    \n",
            "    exp(x, /)\n",
            "        Return e raised to the power of x.\n",
            "    \n",
            "    expm1(x, /)\n",
            "        Return exp(x)-1.\n",
            "        \n",
            "        This function avoids the loss of precision involved in the direct evaluation of exp(x)-1 for small x.\n",
            "    \n",
            "    fabs(x, /)\n",
            "        Return the absolute value of the float x.\n",
            "    \n",
            "    factorial(x, /)\n",
            "        Find x!.\n",
            "        \n",
            "        Raise a ValueError if x is negative or non-integral.\n",
            "    \n",
            "    floor(x, /)\n",
            "        Return the floor of x as an Integral.\n",
            "        \n",
            "        This is the largest integer <= x.\n",
            "    \n",
            "    fmod(x, y, /)\n",
            "        Return fmod(x, y), according to platform C.\n",
            "        \n",
            "        x % y may differ.\n",
            "    \n",
            "    frexp(x, /)\n",
            "        Return the mantissa and exponent of x, as pair (m, e).\n",
            "        \n",
            "        m is a float and e is an int, such that x = m * 2.**e.\n",
            "        If x is 0, m and e are both 0.  Else 0.5 <= abs(m) < 1.0.\n",
            "    \n",
            "    fsum(seq, /)\n",
            "        Return an accurate floating point sum of values in the iterable seq.\n",
            "        \n",
            "        Assumes IEEE-754 floating point arithmetic.\n",
            "    \n",
            "    gamma(x, /)\n",
            "        Gamma function at x.\n",
            "    \n",
            "    gcd(*integers)\n",
            "        Greatest Common Divisor.\n",
            "    \n",
            "    hypot(...)\n",
            "        hypot(*coordinates) -> value\n",
            "        \n",
            "        Multidimensional Euclidean distance from the origin to a point.\n",
            "        \n",
            "        Roughly equivalent to:\n",
            "            sqrt(sum(x**2 for x in coordinates))\n",
            "        \n",
            "        For a two dimensional point (x, y), gives the hypotenuse\n",
            "        using the Pythagorean theorem:  sqrt(x*x + y*y).\n",
            "        \n",
            "        For example, the hypotenuse of a 3/4/5 right triangle is:\n",
            "        \n",
            "            >>> hypot(3.0, 4.0)\n",
            "            5.0\n",
            "    \n",
            "    isclose(a, b, *, rel_tol=1e-09, abs_tol=0.0)\n",
            "        Determine whether two floating point numbers are close in value.\n",
            "        \n",
            "          rel_tol\n",
            "            maximum difference for being considered \"close\", relative to the\n",
            "            magnitude of the input values\n",
            "          abs_tol\n",
            "            maximum difference for being considered \"close\", regardless of the\n",
            "            magnitude of the input values\n",
            "        \n",
            "        Return True if a is close in value to b, and False otherwise.\n",
            "        \n",
            "        For the values to be considered close, the difference between them\n",
            "        must be smaller than at least one of the tolerances.\n",
            "        \n",
            "        -inf, inf and NaN behave similarly to the IEEE 754 Standard.  That\n",
            "        is, NaN is not close to anything, even itself.  inf and -inf are\n",
            "        only close to themselves.\n",
            "    \n",
            "    isfinite(x, /)\n",
            "        Return True if x is neither an infinity nor a NaN, and False otherwise.\n",
            "    \n",
            "    isinf(x, /)\n",
            "        Return True if x is a positive or negative infinity, and False otherwise.\n",
            "    \n",
            "    isnan(x, /)\n",
            "        Return True if x is a NaN (not a number), and False otherwise.\n",
            "    \n",
            "    isqrt(n, /)\n",
            "        Return the integer part of the square root of the input.\n",
            "    \n",
            "    lcm(*integers)\n",
            "        Least Common Multiple.\n",
            "    \n",
            "    ldexp(x, i, /)\n",
            "        Return x * (2**i).\n",
            "        \n",
            "        This is essentially the inverse of frexp().\n",
            "    \n",
            "    lgamma(x, /)\n",
            "        Natural logarithm of absolute value of Gamma function at x.\n",
            "    \n",
            "    log(...)\n",
            "        log(x, [base=math.e])\n",
            "        Return the logarithm of x to the given base.\n",
            "        \n",
            "        If the base not specified, returns the natural logarithm (base e) of x.\n",
            "    \n",
            "    log10(x, /)\n",
            "        Return the base 10 logarithm of x.\n",
            "    \n",
            "    log1p(x, /)\n",
            "        Return the natural logarithm of 1+x (base e).\n",
            "        \n",
            "        The result is computed in a way which is accurate for x near zero.\n",
            "    \n",
            "    log2(x, /)\n",
            "        Return the base 2 logarithm of x.\n",
            "    \n",
            "    modf(x, /)\n",
            "        Return the fractional and integer parts of x.\n",
            "        \n",
            "        Both results carry the sign of x and are floats.\n",
            "    \n",
            "    nextafter(x, y, /)\n",
            "        Return the next floating-point value after x towards y.\n",
            "    \n",
            "    perm(n, k=None, /)\n",
            "        Number of ways to choose k items from n items without repetition and with order.\n",
            "        \n",
            "        Evaluates to n! / (n - k)! when k <= n and evaluates\n",
            "        to zero when k > n.\n",
            "        \n",
            "        If k is not specified or is None, then k defaults to n\n",
            "        and the function returns n!.\n",
            "        \n",
            "        Raises TypeError if either of the arguments are not integers.\n",
            "        Raises ValueError if either of the arguments are negative.\n",
            "    \n",
            "    pow(x, y, /)\n",
            "        Return x**y (x to the power of y).\n",
            "    \n",
            "    prod(iterable, /, *, start=1)\n",
            "        Calculate the product of all the elements in the input iterable.\n",
            "        \n",
            "        The default start value for the product is 1.\n",
            "        \n",
            "        When the iterable is empty, return the start value.  This function is\n",
            "        intended specifically for use with numeric values and may reject\n",
            "        non-numeric types.\n",
            "    \n",
            "    radians(x, /)\n",
            "        Convert angle x from degrees to radians.\n",
            "    \n",
            "    remainder(x, y, /)\n",
            "        Difference between x and the closest integer multiple of y.\n",
            "        \n",
            "        Return x - n*y where n*y is the closest integer multiple of y.\n",
            "        In the case where x is exactly halfway between two multiples of\n",
            "        y, the nearest even value of n is used. The result is always exact.\n",
            "    \n",
            "    sin(x, /)\n",
            "        Return the sine of x (measured in radians).\n",
            "    \n",
            "    sinh(x, /)\n",
            "        Return the hyperbolic sine of x.\n",
            "    \n",
            "    sqrt(x, /)\n",
            "        Return the square root of x.\n",
            "    \n",
            "    tan(x, /)\n",
            "        Return the tangent of x (measured in radians).\n",
            "    \n",
            "    tanh(x, /)\n",
            "        Return the hyperbolic tangent of x.\n",
            "    \n",
            "    trunc(x, /)\n",
            "        Truncates the Real x to the nearest Integral toward 0.\n",
            "        \n",
            "        Uses the __trunc__ magic method.\n",
            "    \n",
            "    ulp(x, /)\n",
            "        Return the value of the least significant bit of the float x.\n",
            "\n",
            "DATA\n",
            "    e = 2.718281828459045\n",
            "    inf = inf\n",
            "    nan = nan\n",
            "    pi = 3.141592653589793\n",
            "    tau = 6.283185307179586\n",
            "\n",
            "FILE\n",
            "    (built-in)\n",
            "\n",
            "\n"
          ]
        }
      ]
    },
    {
      "cell_type": "code",
      "source": [
        "def myPower(n):\n",
        "    '''숫자 n을 입력하면 n의 거듭제곱으로 반환'''\n",
        "    result = n ** 2\n",
        "    return result\n"
      ],
      "metadata": {
        "id": "0bwY77XeQ6ze"
      },
      "execution_count": 84,
      "outputs": []
    },
    {
      "cell_type": "code",
      "source": [
        "print(myPower(3))"
      ],
      "metadata": {
        "colab": {
          "base_uri": "https://localhost:8080/"
        },
        "id": "zd0wlALmRhn2",
        "outputId": "780ac634-fae6-43fc-9beb-c568b54b714a"
      },
      "execution_count": 85,
      "outputs": [
        {
          "output_type": "stream",
          "name": "stdout",
          "text": [
            "9\n"
          ]
        }
      ]
    },
    {
      "cell_type": "code",
      "source": [
        "print(myPower.__doc__)"
      ],
      "metadata": {
        "colab": {
          "base_uri": "https://localhost:8080/"
        },
        "id": "4xmdvUWARqy_",
        "outputId": "4e2b03de-5a53-464f-a824-5d42c3510a02"
      },
      "execution_count": 86,
      "outputs": [
        {
          "output_type": "stream",
          "name": "stdout",
          "text": [
            "숫자 n을 입력하면 n의 거듭제곱으로 반환\n"
          ]
        }
      ]
    },
    {
      "cell_type": "code",
      "source": [
        "print(print.__doc__)"
      ],
      "metadata": {
        "colab": {
          "base_uri": "https://localhost:8080/"
        },
        "id": "IXslU0wIRzhe",
        "outputId": "190ef0c7-0440-4a98-9205-e3636003c0ff"
      },
      "execution_count": 87,
      "outputs": [
        {
          "output_type": "stream",
          "name": "stdout",
          "text": [
            "print(value, ..., sep=' ', end='\\n', file=sys.stdout, flush=False)\n",
            "\n",
            "Prints the values to a stream, or to sys.stdout by default.\n",
            "Optional keyword arguments:\n",
            "file:  a file-like object (stream); defaults to the current sys.stdout.\n",
            "sep:   string inserted between values, default a space.\n",
            "end:   string appended after the last value, default a newline.\n",
            "flush: whether to forcibly flush the stream.\n"
          ]
        }
      ]
    },
    {
      "cell_type": "code",
      "source": [
        "def read_csv(sep, header):\n",
        "  '''\n",
        "  Returns the sum of ~~~.\n",
        "\n",
        "   Paramerters:\n",
        "     sep (str) : NC Dions\n",
        "     header(int) : KT Wiz\n",
        "\n",
        "     Returns:\n",
        "      c (int) : Samsung Lions\n",
        "  '''\n",
        "\n",
        "  c = sep + header\n",
        "  return c\n",
        "\n"
      ],
      "metadata": {
        "id": "ShpvuVdOR3tE"
      },
      "execution_count": 90,
      "outputs": []
    },
    {
      "cell_type": "code",
      "source": [
        "print(read_csv.__doc__)"
      ],
      "metadata": {
        "colab": {
          "base_uri": "https://localhost:8080/"
        },
        "id": "cf_tljlCTJwh",
        "outputId": "d275e786-4380-4c25-f4a2-621e2b3e0e7d"
      },
      "execution_count": 91,
      "outputs": [
        {
          "output_type": "stream",
          "name": "stdout",
          "text": [
            "\n",
            "  Returns the sum of ~~~.\n",
            "\n",
            "   Paramerters:\n",
            "     sep (str) : NC Dions \n",
            "     header(int) : KT Wiz \n",
            "\n",
            "     Returns:\n",
            "      c (int) : Samsung Lions\n",
            "  \n"
          ]
        }
      ]
    },
    {
      "cell_type": "code",
      "source": [],
      "metadata": {
        "id": "i761ZCrxTSOL"
      },
      "execution_count": null,
      "outputs": []
    },
    {
      "cell_type": "markdown",
      "source": [
        "## 클래스 상속\n",
        "- 대분류 > 중분류 > 소분류\n",
        "\n",
        "- 동물\n",
        " + 동물의 공통적인 특징 :살아움직임\n",
        " - 포유류\n",
        " +(살아움직인다)+ 4발이 있다 새끼를 낳는다\n"
      ],
      "metadata": {
        "id": "0l198jrOYN-j"
      }
    },
    {
      "cell_type": "code",
      "source": [
        "class Animal:\n",
        "  # Attribute 정의(=클래스 변수)\n",
        "  name = \"\"\n",
        "\n",
        "  # 공통함수\n",
        "  def eat(self):\n",
        "    print(\"나는 먹을 수 있음\")\n",
        "\n",
        "class Dog(Animal): # 클래스 상속을 했다.\n",
        "                   # 동물 ==> 강아지로 기본 기능을 제공함\n",
        "  # name = \"\" # 이 코드는 불 필요함\n",
        "\n",
        "  # 새로운 메서드\n",
        "  def dance(self):\n",
        "    print(f\"{self.name} 강아지가 춤을 춘다\")"
      ],
      "metadata": {
        "id": "QMWBlUuBZFpH"
      },
      "execution_count": 95,
      "outputs": []
    },
    {
      "cell_type": "code",
      "source": [
        "# 객체 생성\n",
        "a = Dog()\n",
        "a.name = \"새봄\"\n",
        "a.eat()"
      ],
      "metadata": {
        "colab": {
          "base_uri": "https://localhost:8080/"
        },
        "id": "idNy97NSaTqE",
        "outputId": "3c27bec5-e351-4f96-e70e-c21077ae6132"
      },
      "execution_count": 96,
      "outputs": [
        {
          "output_type": "stream",
          "name": "stdout",
          "text": [
            "나는 먹을 수 있음\n"
          ]
        }
      ]
    },
    {
      "cell_type": "code",
      "source": [
        "a.dance()"
      ],
      "metadata": {
        "colab": {
          "base_uri": "https://localhost:8080/"
        },
        "id": "g6yUV9QiarZk",
        "outputId": "ee2ec407-7bdf-4d90-8d52-6b75ff25eb20"
      },
      "execution_count": 97,
      "outputs": [
        {
          "output_type": "stream",
          "name": "stdout",
          "text": [
            "새봄 강아지가 춤을 춘다\n"
          ]
        }
      ]
    },
    {
      "cell_type": "code",
      "source": [
        "b = Animal()\n",
        "b.name = \"시고르자브종\"\n",
        "b.eat()"
      ],
      "metadata": {
        "colab": {
          "base_uri": "https://localhost:8080/"
        },
        "id": "5lraQ3qRb7f7",
        "outputId": "9a2bf5ef-6f30-4237-f3f8-2268fa60631e"
      },
      "execution_count": 99,
      "outputs": [
        {
          "output_type": "stream",
          "name": "stdout",
          "text": [
            "나는 먹을 수 있음\n"
          ]
        }
      ]
    },
    {
      "cell_type": "code",
      "source": [],
      "metadata": {
        "id": "USUr9oaycVCi"
      },
      "execution_count": null,
      "outputs": []
    },
    {
      "cell_type": "markdown",
      "source": [
        "## 클래스 Docstring"
      ],
      "metadata": {
        "id": "tY-lExUSci4X"
      }
    },
    {
      "cell_type": "code",
      "source": [
        "class Person:\n",
        "  \"\"\"\n",
        "  자기 소개하는 Person 클래스.\n",
        "\n",
        "  '''\n",
        "  Attributes\n",
        "  -----------\n",
        "  name : str\n",
        "    사람의 이름을 의미\n",
        "  age : int\n",
        "    사람의 나이를 의미\n",
        "  grade : int\n",
        "    사람의 현재 학년을 의미\n",
        "\n",
        "  Methods\n",
        "  -----------\n",
        "  info(comment=\"\"):\n",
        "    사람의 개인정보를 출력\n",
        "\n",
        "  \"\"\"\n",
        "\n",
        "  def __init__(self, name, age, grade):\n",
        "    \"\"\"\n",
        "\n",
        "    \"\"\"\n",
        "    self.name = name\n",
        "    self.age = age\n",
        "    self.grade = grade\n",
        "\n",
        "  def info(self, comment = \"\"):\n",
        "    \"\"\"\n",
        "\n",
        "    \"\"\"\n",
        "    print(f'내 이름은 {self.name}. 내 나이는 {self.age}. 현재 학년은 {self.grade}. {comment}')"
      ],
      "metadata": {
        "id": "6GrP95Q4cw0-"
      },
      "execution_count": 101,
      "outputs": []
    },
    {
      "cell_type": "code",
      "source": [
        "print(Person.__doc__)"
      ],
      "metadata": {
        "colab": {
          "base_uri": "https://localhost:8080/"
        },
        "id": "VXMfjSS1dMYY",
        "outputId": "6819b6f9-794e-4377-f0e0-99fd7f199d52"
      },
      "execution_count": 102,
      "outputs": [
        {
          "output_type": "stream",
          "name": "stdout",
          "text": [
            "\n",
            "  자기 소개하는 Person 클래스. \n",
            "\n",
            "  '''\n",
            "  Attributes\n",
            "  -----------\n",
            "  name : str\n",
            "    사람의 이름을 의미\n",
            "  age : int\n",
            "    사람의 나이를 의미\n",
            "  grade : int\n",
            "    사람의 현재 학년을 의미\n",
            "\n",
            "  Methods\n",
            "  -----------\n",
            "  info(comment=\"\"):\n",
            "    사람의 개인정보를 출력\n",
            "\n",
            "  \n"
          ]
        }
      ]
    },
    {
      "cell_type": "code",
      "source": [
        "help(Person)"
      ],
      "metadata": {
        "colab": {
          "base_uri": "https://localhost:8080/"
        },
        "id": "t5e0pg81eY5I",
        "outputId": "2526f5d7-8143-4e78-a427-1c5f8b1da771"
      },
      "execution_count": 103,
      "outputs": [
        {
          "output_type": "stream",
          "name": "stdout",
          "text": [
            "Help on class Person in module __main__:\n",
            "\n",
            "class Person(builtins.object)\n",
            " |  Person(name, age, grade)\n",
            " |  \n",
            " |  자기 소개하는 Person 클래스. \n",
            " |  \n",
            " |  '''\n",
            " |  Attributes\n",
            " |  -----------\n",
            " |  name : str\n",
            " |    사람의 이름을 의미\n",
            " |  age : int\n",
            " |    사람의 나이를 의미\n",
            " |  grade : int\n",
            " |    사람의 현재 학년을 의미\n",
            " |  \n",
            " |  Methods\n",
            " |  -----------\n",
            " |  info(comment=\"\"):\n",
            " |    사람의 개인정보를 출력\n",
            " |  \n",
            " |  Methods defined here:\n",
            " |  \n",
            " |  __init__(self, name, age, grade)\n",
            " |  \n",
            " |  info(self, comment='')\n",
            " |  \n",
            " |  ----------------------------------------------------------------------\n",
            " |  Data descriptors defined here:\n",
            " |  \n",
            " |  __dict__\n",
            " |      dictionary for instance variables (if defined)\n",
            " |  \n",
            " |  __weakref__\n",
            " |      list of weak references to the object (if defined)\n",
            "\n"
          ]
        }
      ]
    },
    {
      "cell_type": "code",
      "source": [],
      "metadata": {
        "id": "LlHeZtpmebAT"
      },
      "execution_count": null,
      "outputs": []
    }
  ]
}