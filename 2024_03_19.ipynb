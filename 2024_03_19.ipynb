{
  "cells": [
    {
      "cell_type": "markdown",
      "metadata": {
        "id": "view-in-github",
        "colab_type": "text"
      },
      "source": [
        "<a href=\"https://colab.research.google.com/github/roklp/MLP34/blob/main/2024_03_19.ipynb\" target=\"_parent\"><img src=\"https://colab.research.google.com/assets/colab-badge.svg\" alt=\"Open In Colab\"/></a>"
      ]
    },
    {
      "cell_type": "markdown",
      "id": "4a65cc14-d91c-4f33-bcc0-f80a1efcbaa4",
      "metadata": {
        "id": "4a65cc14-d91c-4f33-bcc0-f80a1efcbaa4"
      },
      "source": [
        "RF"
      ]
    },
    {
      "cell_type": "code",
      "source": [
        "from google.colab import drive\n",
        "drive.mount('/content/drive')"
      ],
      "metadata": {
        "id": "kJDRPogjNE8J"
      },
      "id": "kJDRPogjNE8J",
      "execution_count": null,
      "outputs": []
    },
    {
      "cell_type": "code",
      "source": [
        "import pandas as pd\n",
        "\n",
        "data = pd.read_csv(\"/content/drive/MyDrive/data/머신러닝/data/final_reordered.csv\")\n",
        "\n",
        "print(data.columns)\n"
      ],
      "metadata": {
        "id": "FENLRcJ5OGz0"
      },
      "id": "FENLRcJ5OGz0",
      "execution_count": null,
      "outputs": []
    },
    {
      "cell_type": "code",
      "source": [
        "print(data.columns)\n"
      ],
      "metadata": {
        "colab": {
          "base_uri": "https://localhost:8080/"
        },
        "id": "fgK81ndaPkTy",
        "outputId": "5f55f8ec-1c59-40e0-81f1-51cd75f01178"
      },
      "id": "fgK81ndaPkTy",
      "execution_count": 13,
      "outputs": [
        {
          "output_type": "stream",
          "name": "stdout",
          "text": [
            "Index(['매출_금액', '기준_년도', '상권_구분_코드_명', '상권_코드_명', '행정동_코드_명', '시간대_00~06',\n",
            "       '시간대_06~11', '시간대_11~14', '시간대_14~17', '시간대_17~21', '시간대_21~24',\n",
            "       '기준_분기_1', '기준_분기_2', '기준_분기_3', '기준_분기_4', '총_가구_수', '총_상주인구_수',\n",
            "       '총_직장_인구_수', '시간대_별_유동인구_수', '평일_유동인구_수_평균', '주말_유동인구_수_평균',\n",
            "       '월_평균_소득_금액', '소득_구간_코드', '지출_총금액', '집객시설_수', '가구_대비_인구_비율'],\n",
            "      dtype='object')\n"
          ]
        }
      ]
    },
    {
      "cell_type": "code",
      "source": [
        "import pandas as pd\n",
        "\n",
        "data = pd.read_csv(\"/content/drive/MyDrive/data/머신러닝/data/final_reordered.csv\")\n",
        "\n",
        "data['시간대_매출금액'] = data['시간대_00~06'] + data['시간대_06~11'] + data['시간대_11~14'] + data['시간대_14~17'] + data['시간대_17~21'] + data['시간대_21~24']\n",
        "\n",
        "data.drop(columns=['시간대_00~06', '시간대_06~11', '시간대_11~14', '시간대_14~17', '시간대_17~21', '시간대_21~24'], inplace=True)\n",
        "\n",
        "print(data.head())"
      ],
      "metadata": {
        "id": "aiErPKwROY2W"
      },
      "id": "aiErPKwROY2W",
      "execution_count": null,
      "outputs": []
    },
    {
      "cell_type": "code",
      "execution_count": 14,
      "id": "312a7e24-05c1-4b61-bf79-6c6cf27ee571",
      "metadata": {
        "colab": {
          "base_uri": "https://localhost:8080/"
        },
        "id": "312a7e24-05c1-4b61-bf79-6c6cf27ee571",
        "outputId": "506f9f2c-762f-4e49-9bc2-9d05f3a5831d"
      },
      "outputs": [
        {
          "output_type": "stream",
          "name": "stdout",
          "text": [
            "변환된 데이터의 차원: (3600, 100)\n"
          ]
        }
      ],
      "source": [
        "from sklearn.preprocessing import StandardScaler, OneHotEncoder\n",
        "from sklearn.compose import ColumnTransformer\n",
        "from sklearn.pipeline import Pipeline\n",
        "import numpy as np\n",
        "import pandas as pd\n",
        "\n",
        "data = pd.read_csv(\"/content/drive/MyDrive/data/머신러닝/data/final_reordered.csv\")\n",
        "\n",
        "numeric_columns = data.select_dtypes(include=[np.number]).columns.tolist()\n",
        "categorical_columns = data.select_dtypes(exclude=[np.number]).columns.tolist()\n",
        "\n",
        "data['가구_대비_인구_비율'] = data['총_가구_수'] / data['총_상주인구_수']\n",
        "numeric_columns.append('가구_대비_인구_비율')\n",
        "\n",
        "preprocessor = ColumnTransformer(\n",
        "    transformers=[\n",
        "        ('num', StandardScaler(), numeric_columns),\n",
        "        ('cat', OneHotEncoder(), categorical_columns)\n",
        "    ])\n",
        "\n",
        "target_column = '매출_금액'\n",
        "\n",
        "preprocessed_X = preprocessor.fit_transform(X)\n",
        "\n",
        "print(\"변환된 데이터의 차원:\", preprocessed_X.shape)"
      ]
    },
    {
      "cell_type": "code",
      "execution_count": 17,
      "id": "4a6f79dc-e89f-42f1-8f94-5bb7e6ac5908",
      "metadata": {
        "colab": {
          "base_uri": "https://localhost:8080/"
        },
        "id": "4a6f79dc-e89f-42f1-8f94-5bb7e6ac5908",
        "outputId": "e8b5e463-079b-4868-d377-ca7810136d37"
      },
      "outputs": [
        {
          "output_type": "execute_result",
          "data": {
            "text/plain": [
              "(5131454.083772499, 0.9998918501461374)"
            ]
          },
          "metadata": {},
          "execution_count": 17
        }
      ],
      "source": [
        "from sklearn.ensemble import RandomForestRegressor\n",
        "from sklearn.model_selection import cross_val_score, KFold\n",
        "from sklearn.metrics import mean_squared_error, make_scorer\n",
        "import numpy as np\n",
        "\n",
        "y = data['매출_금액']\n",
        "\n",
        "rf_model = RandomForestRegressor(n_estimators=100, random_state=42)\n",
        "\n",
        "kf = KFold(n_splits=5, shuffle=True, random_state=42)\n",
        "\n",
        "def rmse(y_true, y_pred):\n",
        "    return np.sqrt(mean_squared_error(y_true, y_pred))\n",
        "\n",
        "rmse_scorer = make_scorer(rmse, greater_is_better=False)\n",
        "\n",
        "cv_scores = cross_val_score(rf_model, preprocessed_X, y, cv=kf, scoring=rmse_scorer)\n",
        "\n",
        "cv_scores_mean = -cv_scores.mean()\n",
        "\n",
        "r2_scores = cross_val_score(rf_model, preprocessed_X, y, cv=kf, scoring='r2')\n",
        "\n",
        "r2_scores_mean = r2_scores.mean()\n",
        "\n",
        "cv_scores_mean, r2_scores_mean"
      ]
    },
    {
      "cell_type": "code",
      "execution_count": 18,
      "id": "75f2e0e7-2816-44b0-95de-66f1cc57fa03",
      "metadata": {
        "colab": {
          "base_uri": "https://localhost:8080/"
        },
        "id": "75f2e0e7-2816-44b0-95de-66f1cc57fa03",
        "outputId": "3756895a-f6c3-4b92-cb17-1d71465049a7"
      },
      "outputs": [
        {
          "output_type": "execute_result",
          "data": {
            "text/plain": [
              "({'n_estimators': 500,\n",
              "  'min_samples_split': 2,\n",
              "  'min_samples_leaf': 1,\n",
              "  'max_depth': 50,\n",
              "  'bootstrap': True},\n",
              " 5145118.96911789)"
            ]
          },
          "metadata": {},
          "execution_count": 18
        }
      ],
      "source": [
        "from sklearn.model_selection import RandomizedSearchCV\n",
        "\n",
        "param_distributions = {\n",
        "    'n_estimators': [100, 200, 300, 400, 500],\n",
        "    'max_depth': [None, 10, 20, 30, 40, 50],\n",
        "    'min_samples_split': [2, 5, 10],\n",
        "    'min_samples_leaf': [1, 2, 4],\n",
        "    'bootstrap': [True, False]\n",
        "}\n",
        "\n",
        "random_search = RandomizedSearchCV(\n",
        "    estimator=RandomForestRegressor(random_state=42),\n",
        "    param_distributions=param_distributions,\n",
        "    n_iter=10,\n",
        "    cv=kf,\n",
        "    scoring='neg_mean_squared_error',\n",
        "    random_state=42,\n",
        "    n_jobs=-1\n",
        ")\n",
        "\n",
        "random_search.fit(preprocessed_X, y)\n",
        "\n",
        "best_params = random_search.best_params_\n",
        "best_rmse = np.sqrt(-random_search.best_score_)\n",
        "\n",
        "best_params, best_rmse"
      ]
    },
    {
      "cell_type": "code",
      "execution_count": 19,
      "id": "4a8ca237-204e-428f-bada-6bfb3bab129a",
      "metadata": {
        "colab": {
          "base_uri": "https://localhost:8080/"
        },
        "id": "4a8ca237-204e-428f-bada-6bfb3bab129a",
        "outputId": "8d99b2ba-f8b9-4972-d3e6-ecc829619017"
      },
      "outputs": [
        {
          "output_type": "execute_result",
          "data": {
            "text/plain": [
              "(4852283.1663839, 0.9999022827293755)"
            ]
          },
          "metadata": {},
          "execution_count": 19
        }
      ],
      "source": [
        "# 최적의 하이퍼파라미터를 사용하여 RandomForestRegressor 모델 설정\n",
        "optimized_rf_model = RandomForestRegressor(\n",
        "    n_estimators=500,\n",
        "    min_samples_split=2,\n",
        "    min_samples_leaf=1,\n",
        "    max_depth=50,\n",
        "    bootstrap=True,\n",
        "    random_state=42\n",
        ")\n",
        "\n",
        "# KFold 교차 검증을 사용하여 모델의 RMSE와 R^2 계산\n",
        "rmse_scores = cross_val_score(optimized_rf_model, preprocessed_X, y, cv=kf, scoring=rmse_scorer)\n",
        "r2_scores = cross_val_score(optimized_rf_model, preprocessed_X, y, cv=kf, scoring='r2')\n",
        "\n",
        "# 평균 RMSE와 R^2 출력\n",
        "optimized_rmse_mean = -rmse_scores.mean()\n",
        "optimized_r2_mean = r2_scores.mean()\n",
        "\n",
        "optimized_rmse_mean, optimized_r2_mean"
      ]
    },
    {
      "cell_type": "markdown",
      "id": "4ceb67cb-c2bb-4122-b734-27a5198a2d3e",
      "metadata": {
        "id": "4ceb67cb-c2bb-4122-b734-27a5198a2d3e"
      },
      "source": [
        "### RandomForest & GradientBoosting Ensemble"
      ]
    },
    {
      "cell_type": "code",
      "execution_count": 20,
      "id": "6cba8754-1a4c-4a74-b386-9d4c85413513",
      "metadata": {
        "colab": {
          "base_uri": "https://localhost:8080/"
        },
        "id": "6cba8754-1a4c-4a74-b386-9d4c85413513",
        "outputId": "1656dd53-1d60-4164-8562-bd25c83f4b03"
      },
      "outputs": [
        {
          "output_type": "execute_result",
          "data": {
            "text/plain": [
              "({'n_estimators': 300,\n",
              "  'min_samples_split': 2,\n",
              "  'min_samples_leaf': 1,\n",
              "  'max_depth': 5,\n",
              "  'learning_rate': 0.1},\n",
              " 4008111.4476043037)"
            ]
          },
          "metadata": {},
          "execution_count": 20
        }
      ],
      "source": [
        "from sklearn.ensemble import GradientBoostingRegressor\n",
        "\n",
        "# GradientBoostingRegressor 모델을 위한 하이퍼파라미터 탐색 공간 정의\n",
        "gb_param_distributions = {\n",
        "    'n_estimators': [100, 200, 300],\n",
        "    'learning_rate': [0.01, 0.1, 0.2],\n",
        "    'max_depth': [3, 4, 5],\n",
        "    'min_samples_split': [2, 5],\n",
        "    'min_samples_leaf': [1, 2]\n",
        "}\n",
        "\n",
        "# RandomizedSearchCV 설정\n",
        "gb_random_search = RandomizedSearchCV(\n",
        "    estimator=GradientBoostingRegressor(random_state=42),\n",
        "    param_distributions=gb_param_distributions,\n",
        "    n_iter=10,  # 탐색할 파라미터 설정 조합의 수\n",
        "    cv=kf,  # KFold 교차 검증\n",
        "    scoring='neg_mean_squared_error',  # 평가 지표\n",
        "    random_state=42,\n",
        "    n_jobs=-1  # 모든 CPU 코어 사용\n",
        ")\n",
        "\n",
        "# 하이퍼파라미터 탐색 실행\n",
        "gb_random_search.fit(preprocessed_X, y)\n",
        "\n",
        "# GradientBoostingRegressor의 최적의 파라미터와 그 때의 RMSE 출력\n",
        "gb_best_params = gb_random_search.best_params_\n",
        "gb_best_rmse = np.sqrt(-gb_random_search.best_score_)\n",
        "\n",
        "gb_best_params, gb_best_rmse"
      ]
    },
    {
      "cell_type": "code",
      "execution_count": 21,
      "id": "12b0b3cb-2375-4da4-bb35-0736ffc186f9",
      "metadata": {
        "colab": {
          "base_uri": "https://localhost:8080/"
        },
        "id": "12b0b3cb-2375-4da4-bb35-0736ffc186f9",
        "outputId": "11215c8a-5aa8-4a9b-9b5c-45d160b799a4"
      },
      "outputs": [
        {
          "output_type": "stream",
          "name": "stdout",
          "text": [
            "RMSE: 545903.7386177476\n",
            "R^2: 0.9999988517792238\n"
          ]
        }
      ],
      "source": [
        "from sklearn.metrics import mean_squared_error, r2_score\n",
        "\n",
        "# 최적화된 하이퍼파라미터로 GradientBoostingRegressor 모델 훈련\n",
        "gb_model = GradientBoostingRegressor(\n",
        "    n_estimators=300,\n",
        "    min_samples_split=2,\n",
        "    min_samples_leaf=1,\n",
        "    max_depth=5,\n",
        "    learning_rate=0.1,\n",
        "    random_state=42\n",
        ")\n",
        "\n",
        "# 모델 훈련\n",
        "gb_model.fit(preprocessed_X, y)\n",
        "\n",
        "# 훈련된 모델을 사용하여 예측\n",
        "y_pred = gb_model.predict(preprocessed_X)\n",
        "\n",
        "# RMSE와 R^2 계산\n",
        "rmse = np.sqrt(mean_squared_error(y, y_pred))\n",
        "r2 = r2_score(y, y_pred)\n",
        "\n",
        "print(\"RMSE:\", rmse)\n",
        "print(\"R^2:\", r2)"
      ]
    },
    {
      "cell_type": "markdown",
      "id": "e208a549-87c0-474b-b7ee-3d9cbe5a7065",
      "metadata": {
        "id": "e208a549-87c0-474b-b7ee-3d9cbe5a7065"
      },
      "source": [
        "### XGBoost"
      ]
    },
    {
      "cell_type": "code",
      "execution_count": 22,
      "id": "f2683f52-d051-472a-acfc-a789a44d9bc5",
      "metadata": {
        "colab": {
          "base_uri": "https://localhost:8080/"
        },
        "id": "f2683f52-d051-472a-acfc-a789a44d9bc5",
        "outputId": "93cd19e7-e98b-4d8a-aada-9db14feaf56f"
      },
      "outputs": [
        {
          "output_type": "execute_result",
          "data": {
            "text/plain": [
              "(3600, 102)"
            ]
          },
          "metadata": {},
          "execution_count": 22
        }
      ],
      "source": [
        "from sklearn.base import BaseEstimator, TransformerMixin\n",
        "\n",
        "# 새로운 feature engineering 변환기 정의\n",
        "class AdditionalFeatures(BaseEstimator, TransformerMixin):\n",
        "    def __init__(self):\n",
        "        pass\n",
        "\n",
        "    def fit(self, X, y=None):\n",
        "        return self\n",
        "\n",
        "    def transform(self, X):\n",
        "        # '평일 대비 주말 유동 인구 비율' 계산하여 추가\n",
        "        X['주말_대비_평일_유동인구_비율'] = X['주말_유동인구_수_평균'] / X['평일_유동인구_수_평균']\n",
        "        return X\n",
        "\n",
        "# 새로운 feature engineering 변환기 인스턴스 생성\n",
        "additional_features = AdditionalFeatures()\n",
        "\n",
        "# 데이터에 새로운 지표 추가\n",
        "X_new_features = additional_features.transform(X.copy())\n",
        "\n",
        "# 전처리 파이프라인에 새로운 feature engineering 단계 추가\n",
        "preprocessor_with_new_features = ColumnTransformer(\n",
        "    transformers=[\n",
        "        ('num', StandardScaler(), numeric_columns + ['가구_대비_인구_비율', '주말_대비_평일_유동인구_비율']),\n",
        "        ('cat', OneHotEncoder(), categorical_columns)\n",
        "    ])\n",
        "\n",
        "# 전처리 파이프라인 적용\n",
        "preprocessed_X_with_new_features = preprocessor_with_new_features.fit_transform(X_new_features)\n",
        "\n",
        "# 새로운 feature를 추가한 후의 데이터 차원 확인\n",
        "preprocessed_X_with_new_features.shape"
      ]
    },
    {
      "cell_type": "code",
      "execution_count": 23,
      "id": "dc05e397-797d-47fd-9b46-d3eb03d1d956",
      "metadata": {
        "colab": {
          "base_uri": "https://localhost:8080/"
        },
        "id": "dc05e397-797d-47fd-9b46-d3eb03d1d956",
        "outputId": "1f93132e-8fb6-463a-b462-9455d3a9d356"
      },
      "outputs": [
        {
          "output_type": "execute_result",
          "data": {
            "text/plain": [
              "(20462009.530386362, 0.9983442477363116)"
            ]
          },
          "metadata": {},
          "execution_count": 23
        }
      ],
      "source": [
        "import xgboost as xgb\n",
        "from sklearn.model_selection import cross_val_score\n",
        "\n",
        "# XGBoost 모델 인스턴스 생성\n",
        "xgb_model = xgb.XGBRegressor(objective='reg:squarederror', random_state=42)\n",
        "\n",
        "# 교차 검증으로 모델의 RMSE와 R^2 계산\n",
        "rmse_scores = cross_val_score(xgb_model, preprocessed_X_with_new_features, y, cv=kf, scoring=rmse_scorer)\n",
        "r2_scores = cross_val_score(xgb_model, preprocessed_X_with_new_features, y, cv=kf, scoring='r2')\n",
        "\n",
        "# 평균 RMSE와 R^2 출력\n",
        "rmse_mean = -rmse_scores.mean()\n",
        "r2_mean = r2_scores.mean()\n",
        "\n",
        "rmse_mean, r2_mean"
      ]
    },
    {
      "cell_type": "code",
      "execution_count": 27,
      "id": "4984199f-63c7-4d0d-a623-2784560cd5ad",
      "metadata": {
        "colab": {
          "base_uri": "https://localhost:8080/"
        },
        "id": "4984199f-63c7-4d0d-a623-2784560cd5ad",
        "outputId": "84eea3dc-6d8b-45ee-c3f5-850020c6e028"
      },
      "outputs": [
        {
          "output_type": "execute_result",
          "data": {
            "text/plain": [
              "({'subsample': 0.9,\n",
              "  'n_estimators': 400,\n",
              "  'min_child_weight': 2,\n",
              "  'max_depth': 8,\n",
              "  'learning_rate': 0.05,\n",
              "  'colsample_bytree': 1.0},\n",
              " 19000647.96897695)"
            ]
          },
          "metadata": {},
          "execution_count": 27
        }
      ],
      "source": [
        "from sklearn.model_selection import RandomizedSearchCV\n",
        "\n",
        "# 탐색할 하이퍼파라미터의 범위 정의\n",
        "xgb_param_distributions = {\n",
        "    'n_estimators': [100, 200, 300, 400, 500],\n",
        "    'learning_rate': [0.01, 0.05, 0.1, 0.2],\n",
        "    'max_depth': [3, 4, 5, 6, 7, 8],\n",
        "    'min_child_weight': [1, 2, 3, 4, 5],\n",
        "    'subsample': [0.6, 0.7, 0.8, 0.9, 1.0],\n",
        "    'colsample_bytree': [0.6, 0.7, 0.8, 0.9, 1.0]\n",
        "}\n",
        "\n",
        "# XGBoost 모델 인스턴스 생성\n",
        "xgb_model = xgb.XGBRegressor(objective='reg:squarederror', random_state=42)\n",
        "\n",
        "# RandomizedSearchCV 설정\n",
        "xgb_random_search = RandomizedSearchCV(\n",
        "    estimator=xgb_model,\n",
        "    param_distributions=xgb_param_distributions,\n",
        "    n_iter=50,  # 탐색할 파라미터 설정 조합의 수\n",
        "    cv=kf,  # KFold 교차 검증\n",
        "    scoring='neg_mean_squared_error',  # 평가 지표\n",
        "    random_state=42,\n",
        "    n_jobs=2\n",
        "\n",
        ")\n",
        "\n",
        "# 하이퍼파라미터 탐색 실행\n",
        "xgb_random_search.fit(preprocessed_X_with_new_features, y)\n",
        "\n",
        "# XGBoost의 최적의 파라미터와 그 때의 RMSE 출력\n",
        "xgb_best_params = xgb_random_search.best_params_\n",
        "xgb_best_rmse = np.sqrt(-xgb_random_search.best_score_)\n",
        "\n",
        "xgb_best_params, xgb_best_rmse"
      ]
    },
    {
      "cell_type": "code",
      "execution_count": 28,
      "id": "3863f952-d1c1-484b-adce-2feff43a8d52",
      "metadata": {
        "colab": {
          "base_uri": "https://localhost:8080/"
        },
        "id": "3863f952-d1c1-484b-adce-2feff43a8d52",
        "outputId": "fe00d246-68d2-4b0d-e422-1d4c72deca36"
      },
      "outputs": [
        {
          "output_type": "execute_result",
          "data": {
            "text/plain": [
              "(19270820.368527833, 0.9985548404916791)"
            ]
          },
          "metadata": {},
          "execution_count": 28
        }
      ],
      "source": [
        "# 최적의 하이퍼파라미터를 사용하여 XGBoost 모델 설정\n",
        "optimized_xgb_model = xgb.XGBRegressor(\n",
        "    subsample=0.6,\n",
        "    n_estimators=500,\n",
        "    min_child_weight=1,\n",
        "    max_depth=7,\n",
        "    learning_rate=0.05,\n",
        "    colsample_bytree=0.8,\n",
        "    objective='reg:squarederror',\n",
        "    random_state=42\n",
        ")\n",
        "\n",
        "# 교차 검증으로 모델의 RMSE 계산\n",
        "optimized_xgb_rmse_scores = cross_val_score(optimized_xgb_model, preprocessed_X_with_new_features, y, cv=kf, scoring=rmse_scorer)\n",
        "\n",
        "# 교차 검증으로 모델의 R^2 계산\n",
        "optimized_xgb_r2_scores = cross_val_score(optimized_xgb_model, preprocessed_X_with_new_features, y, cv=kf, scoring='r2')\n",
        "\n",
        "# 평균 RMSE와 R^2 출력\n",
        "optimized_xgb_rmse_mean = -optimized_xgb_rmse_scores.mean()\n",
        "optimized_xgb_r2_mean = optimized_xgb_r2_scores.mean()\n",
        "\n",
        "optimized_xgb_rmse_mean, optimized_xgb_r2_mean"
      ]
    },
    {
      "cell_type": "code",
      "execution_count": null,
      "id": "be9765df-ceb4-4ff3-9cd6-ed05b9c24499",
      "metadata": {
        "id": "be9765df-ceb4-4ff3-9cd6-ed05b9c24499"
      },
      "outputs": [],
      "source": []
    }
  ],
  "metadata": {
    "kernelspec": {
      "display_name": "Python 3 (ipykernel)",
      "language": "python",
      "name": "python3"
    },
    "language_info": {
      "codemirror_mode": {
        "name": "ipython",
        "version": 3
      },
      "file_extension": ".py",
      "mimetype": "text/x-python",
      "name": "python",
      "nbconvert_exporter": "python",
      "pygments_lexer": "ipython3",
      "version": "3.12.1"
    },
    "colab": {
      "provenance": [],
      "collapsed_sections": [
        "4a65cc14-d91c-4f33-bcc0-f80a1efcbaa4"
      ],
      "include_colab_link": true
    }
  },
  "nbformat": 4,
  "nbformat_minor": 5
}